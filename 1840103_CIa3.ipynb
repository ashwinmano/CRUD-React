{
  "nbformat": 4,
  "nbformat_minor": 0,
  "metadata": {
    "colab": {
      "name": "1840103_CIa3.ipynb",
      "provenance": [],
      "authorship_tag": "ABX9TyOGH+hR76DFCTI8h8RyX74A",
      "include_colab_link": true
    },
    "kernelspec": {
      "name": "python3",
      "display_name": "Python 3"
    }
  },
  "cells": [
    {
      "cell_type": "markdown",
      "metadata": {
        "id": "view-in-github",
        "colab_type": "text"
      },
      "source": [
        "<a href=\"https://colab.research.google.com/github/ashwinmano/CRUD-React/blob/master/1840103_CIa3.ipynb\" target=\"_parent\"><img src=\"https://colab.research.google.com/assets/colab-badge.svg\" alt=\"Open In Colab\"/></a>"
      ]
    },
    {
      "cell_type": "code",
      "metadata": {
        "id": "t9fxfRc_7zMw"
      },
      "source": [
        "import numpy as np\n",
        "import pandas as pd\n",
        "from sklearn.preprocessing import StandardScaler\n",
        "from scipy import stats\n",
        "import plotly.express as px\n",
        "from sklearn.model_selection import train_test_split \n",
        "from sklearn.linear_model import LinearRegression\n",
        "from sklearn import metrics"
      ],
      "execution_count": null,
      "outputs": []
    },
    {
      "cell_type": "code",
      "metadata": {
        "id": "CYsw-O828ecB",
        "outputId": "59b00091-8088-441b-8dad-c4bd4d11dca9",
        "colab": {
          "base_uri": "https://localhost:8080/",
          "height": 202
        }
      },
      "source": [
        "url=\"/content/car data.csv\"\n",
        "df=pd.read_csv(url)\n",
        "df.head(5)"
      ],
      "execution_count": 75,
      "outputs": [
        {
          "output_type": "execute_result",
          "data": {
            "text/html": [
              "<div>\n",
              "<style scoped>\n",
              "    .dataframe tbody tr th:only-of-type {\n",
              "        vertical-align: middle;\n",
              "    }\n",
              "\n",
              "    .dataframe tbody tr th {\n",
              "        vertical-align: top;\n",
              "    }\n",
              "\n",
              "    .dataframe thead th {\n",
              "        text-align: right;\n",
              "    }\n",
              "</style>\n",
              "<table border=\"1\" class=\"dataframe\">\n",
              "  <thead>\n",
              "    <tr style=\"text-align: right;\">\n",
              "      <th></th>\n",
              "      <th>Car_Name</th>\n",
              "      <th>Year</th>\n",
              "      <th>Selling_Price</th>\n",
              "      <th>Present_Price</th>\n",
              "      <th>Kms_Driven</th>\n",
              "      <th>Fuel_Type</th>\n",
              "      <th>Seller_Type</th>\n",
              "      <th>Transmission</th>\n",
              "      <th>Owner</th>\n",
              "    </tr>\n",
              "  </thead>\n",
              "  <tbody>\n",
              "    <tr>\n",
              "      <th>0</th>\n",
              "      <td>ritz</td>\n",
              "      <td>2014</td>\n",
              "      <td>3.35</td>\n",
              "      <td>5.59</td>\n",
              "      <td>27000</td>\n",
              "      <td>Petrol</td>\n",
              "      <td>Dealer</td>\n",
              "      <td>Manual</td>\n",
              "      <td>0</td>\n",
              "    </tr>\n",
              "    <tr>\n",
              "      <th>1</th>\n",
              "      <td>sx4</td>\n",
              "      <td>2013</td>\n",
              "      <td>4.75</td>\n",
              "      <td>9.54</td>\n",
              "      <td>43000</td>\n",
              "      <td>Diesel</td>\n",
              "      <td>Dealer</td>\n",
              "      <td>Manual</td>\n",
              "      <td>0</td>\n",
              "    </tr>\n",
              "    <tr>\n",
              "      <th>2</th>\n",
              "      <td>ciaz</td>\n",
              "      <td>2017</td>\n",
              "      <td>7.25</td>\n",
              "      <td>9.85</td>\n",
              "      <td>6900</td>\n",
              "      <td>Petrol</td>\n",
              "      <td>Dealer</td>\n",
              "      <td>Manual</td>\n",
              "      <td>0</td>\n",
              "    </tr>\n",
              "    <tr>\n",
              "      <th>3</th>\n",
              "      <td>wagon r</td>\n",
              "      <td>2011</td>\n",
              "      <td>2.85</td>\n",
              "      <td>4.15</td>\n",
              "      <td>5200</td>\n",
              "      <td>Petrol</td>\n",
              "      <td>Dealer</td>\n",
              "      <td>Manual</td>\n",
              "      <td>0</td>\n",
              "    </tr>\n",
              "    <tr>\n",
              "      <th>4</th>\n",
              "      <td>swift</td>\n",
              "      <td>2014</td>\n",
              "      <td>4.60</td>\n",
              "      <td>6.87</td>\n",
              "      <td>42450</td>\n",
              "      <td>Diesel</td>\n",
              "      <td>Dealer</td>\n",
              "      <td>Manual</td>\n",
              "      <td>0</td>\n",
              "    </tr>\n",
              "  </tbody>\n",
              "</table>\n",
              "</div>"
            ],
            "text/plain": [
              "  Car_Name  Year  Selling_Price  ...  Seller_Type  Transmission Owner\n",
              "0     ritz  2014           3.35  ...       Dealer        Manual     0\n",
              "1      sx4  2013           4.75  ...       Dealer        Manual     0\n",
              "2     ciaz  2017           7.25  ...       Dealer        Manual     0\n",
              "3  wagon r  2011           2.85  ...       Dealer        Manual     0\n",
              "4    swift  2014           4.60  ...       Dealer        Manual     0\n",
              "\n",
              "[5 rows x 9 columns]"
            ]
          },
          "metadata": {
            "tags": []
          },
          "execution_count": 75
        }
      ]
    },
    {
      "cell_type": "code",
      "metadata": {
        "id": "49bXjPCg8zxL",
        "outputId": "372ab631-55de-4f7d-9ba9-1e405d98fb9d",
        "colab": {
          "base_uri": "https://localhost:8080/",
          "height": 355
        }
      },
      "source": [
        "de=df[['Selling_Price', 'Present_Price','Kms_Driven']]\n",
        "da=de.head(10)\n",
        "da"
      ],
      "execution_count": null,
      "outputs": [
        {
          "output_type": "execute_result",
          "data": {
            "text/html": [
              "<div>\n",
              "<style scoped>\n",
              "    .dataframe tbody tr th:only-of-type {\n",
              "        vertical-align: middle;\n",
              "    }\n",
              "\n",
              "    .dataframe tbody tr th {\n",
              "        vertical-align: top;\n",
              "    }\n",
              "\n",
              "    .dataframe thead th {\n",
              "        text-align: right;\n",
              "    }\n",
              "</style>\n",
              "<table border=\"1\" class=\"dataframe\">\n",
              "  <thead>\n",
              "    <tr style=\"text-align: right;\">\n",
              "      <th></th>\n",
              "      <th>Selling_Price</th>\n",
              "      <th>Present_Price</th>\n",
              "      <th>Kms_Driven</th>\n",
              "    </tr>\n",
              "  </thead>\n",
              "  <tbody>\n",
              "    <tr>\n",
              "      <th>0</th>\n",
              "      <td>3.35</td>\n",
              "      <td>5.59</td>\n",
              "      <td>27000</td>\n",
              "    </tr>\n",
              "    <tr>\n",
              "      <th>1</th>\n",
              "      <td>4.75</td>\n",
              "      <td>9.54</td>\n",
              "      <td>43000</td>\n",
              "    </tr>\n",
              "    <tr>\n",
              "      <th>2</th>\n",
              "      <td>7.25</td>\n",
              "      <td>9.85</td>\n",
              "      <td>6900</td>\n",
              "    </tr>\n",
              "    <tr>\n",
              "      <th>3</th>\n",
              "      <td>2.85</td>\n",
              "      <td>4.15</td>\n",
              "      <td>5200</td>\n",
              "    </tr>\n",
              "    <tr>\n",
              "      <th>4</th>\n",
              "      <td>4.60</td>\n",
              "      <td>6.87</td>\n",
              "      <td>42450</td>\n",
              "    </tr>\n",
              "    <tr>\n",
              "      <th>5</th>\n",
              "      <td>9.25</td>\n",
              "      <td>9.83</td>\n",
              "      <td>2071</td>\n",
              "    </tr>\n",
              "    <tr>\n",
              "      <th>6</th>\n",
              "      <td>6.75</td>\n",
              "      <td>8.12</td>\n",
              "      <td>18796</td>\n",
              "    </tr>\n",
              "    <tr>\n",
              "      <th>7</th>\n",
              "      <td>6.50</td>\n",
              "      <td>8.61</td>\n",
              "      <td>33429</td>\n",
              "    </tr>\n",
              "    <tr>\n",
              "      <th>8</th>\n",
              "      <td>8.75</td>\n",
              "      <td>8.89</td>\n",
              "      <td>20273</td>\n",
              "    </tr>\n",
              "    <tr>\n",
              "      <th>9</th>\n",
              "      <td>7.45</td>\n",
              "      <td>8.92</td>\n",
              "      <td>42367</td>\n",
              "    </tr>\n",
              "  </tbody>\n",
              "</table>\n",
              "</div>"
            ],
            "text/plain": [
              "   Selling_Price  Present_Price  Kms_Driven\n",
              "0           3.35           5.59       27000\n",
              "1           4.75           9.54       43000\n",
              "2           7.25           9.85        6900\n",
              "3           2.85           4.15        5200\n",
              "4           4.60           6.87       42450\n",
              "5           9.25           9.83        2071\n",
              "6           6.75           8.12       18796\n",
              "7           6.50           8.61       33429\n",
              "8           8.75           8.89       20273\n",
              "9           7.45           8.92       42367"
            ]
          },
          "metadata": {
            "tags": []
          },
          "execution_count": 3
        }
      ]
    },
    {
      "cell_type": "markdown",
      "metadata": {
        "id": "XGJaqgVhIKmV"
      },
      "source": [
        "Covariance"
      ]
    },
    {
      "cell_type": "code",
      "metadata": {
        "id": "xt49QtmX9qFz",
        "outputId": "f54049e0-6e2d-4bad-ba7c-f097a56822e8",
        "colab": {
          "base_uri": "https://localhost:8080/",
          "height": 141
        }
      },
      "source": [
        "covariance = da.cov(min_periods=None)\n",
        "covariance"
      ],
      "execution_count": null,
      "outputs": [
        {
          "output_type": "execute_result",
          "data": {
            "text/html": [
              "<div>\n",
              "<style scoped>\n",
              "    .dataframe tbody tr th:only-of-type {\n",
              "        vertical-align: middle;\n",
              "    }\n",
              "\n",
              "    .dataframe tbody tr th {\n",
              "        vertical-align: top;\n",
              "    }\n",
              "\n",
              "    .dataframe thead th {\n",
              "        text-align: right;\n",
              "    }\n",
              "</style>\n",
              "<table border=\"1\" class=\"dataframe\">\n",
              "  <thead>\n",
              "    <tr style=\"text-align: right;\">\n",
              "      <th></th>\n",
              "      <th>Selling_Price</th>\n",
              "      <th>Present_Price</th>\n",
              "      <th>Kms_Driven</th>\n",
              "    </tr>\n",
              "  </thead>\n",
              "  <tbody>\n",
              "    <tr>\n",
              "      <th>Selling_Price</th>\n",
              "      <td>4.760556</td>\n",
              "      <td>3.394667</td>\n",
              "      <td>-8.220306e+03</td>\n",
              "    </tr>\n",
              "    <tr>\n",
              "      <th>Present_Price</th>\n",
              "      <td>3.394667</td>\n",
              "      <td>3.673534</td>\n",
              "      <td>2.272141e+03</td>\n",
              "    </tr>\n",
              "    <tr>\n",
              "      <th>Kms_Driven</th>\n",
              "      <td>-8220.305556</td>\n",
              "      <td>2272.140889</td>\n",
              "      <td>2.560153e+08</td>\n",
              "    </tr>\n",
              "  </tbody>\n",
              "</table>\n",
              "</div>"
            ],
            "text/plain": [
              "               Selling_Price  Present_Price    Kms_Driven\n",
              "Selling_Price       4.760556       3.394667 -8.220306e+03\n",
              "Present_Price       3.394667       3.673534  2.272141e+03\n",
              "Kms_Driven      -8220.305556    2272.140889  2.560153e+08"
            ]
          },
          "metadata": {
            "tags": []
          },
          "execution_count": 4
        }
      ]
    },
    {
      "cell_type": "markdown",
      "metadata": {
        "id": "PTSpvuvnIVRa"
      },
      "source": [
        "Pearsons Correlation"
      ]
    },
    {
      "cell_type": "code",
      "metadata": {
        "id": "jQ9tVziPADVx",
        "outputId": "895aed3e-fc7d-4b81-dd1a-3560f106f7ec",
        "colab": {
          "base_uri": "https://localhost:8080/",
          "height": 202
        }
      },
      "source": [
        "pearsoncorr =df.corr(method='pearson')\n",
        "pearsoncorr"
      ],
      "execution_count": null,
      "outputs": [
        {
          "output_type": "execute_result",
          "data": {
            "text/html": [
              "<div>\n",
              "<style scoped>\n",
              "    .dataframe tbody tr th:only-of-type {\n",
              "        vertical-align: middle;\n",
              "    }\n",
              "\n",
              "    .dataframe tbody tr th {\n",
              "        vertical-align: top;\n",
              "    }\n",
              "\n",
              "    .dataframe thead th {\n",
              "        text-align: right;\n",
              "    }\n",
              "</style>\n",
              "<table border=\"1\" class=\"dataframe\">\n",
              "  <thead>\n",
              "    <tr style=\"text-align: right;\">\n",
              "      <th></th>\n",
              "      <th>Year</th>\n",
              "      <th>Selling_Price</th>\n",
              "      <th>Present_Price</th>\n",
              "      <th>Kms_Driven</th>\n",
              "      <th>Owner</th>\n",
              "    </tr>\n",
              "  </thead>\n",
              "  <tbody>\n",
              "    <tr>\n",
              "      <th>Year</th>\n",
              "      <td>1.000000</td>\n",
              "      <td>0.236141</td>\n",
              "      <td>-0.047584</td>\n",
              "      <td>-0.524342</td>\n",
              "      <td>-0.182104</td>\n",
              "    </tr>\n",
              "    <tr>\n",
              "      <th>Selling_Price</th>\n",
              "      <td>0.236141</td>\n",
              "      <td>1.000000</td>\n",
              "      <td>0.878983</td>\n",
              "      <td>0.029187</td>\n",
              "      <td>-0.088344</td>\n",
              "    </tr>\n",
              "    <tr>\n",
              "      <th>Present_Price</th>\n",
              "      <td>-0.047584</td>\n",
              "      <td>0.878983</td>\n",
              "      <td>1.000000</td>\n",
              "      <td>0.203647</td>\n",
              "      <td>0.008057</td>\n",
              "    </tr>\n",
              "    <tr>\n",
              "      <th>Kms_Driven</th>\n",
              "      <td>-0.524342</td>\n",
              "      <td>0.029187</td>\n",
              "      <td>0.203647</td>\n",
              "      <td>1.000000</td>\n",
              "      <td>0.089216</td>\n",
              "    </tr>\n",
              "    <tr>\n",
              "      <th>Owner</th>\n",
              "      <td>-0.182104</td>\n",
              "      <td>-0.088344</td>\n",
              "      <td>0.008057</td>\n",
              "      <td>0.089216</td>\n",
              "      <td>1.000000</td>\n",
              "    </tr>\n",
              "  </tbody>\n",
              "</table>\n",
              "</div>"
            ],
            "text/plain": [
              "                   Year  Selling_Price  Present_Price  Kms_Driven     Owner\n",
              "Year           1.000000       0.236141      -0.047584   -0.524342 -0.182104\n",
              "Selling_Price  0.236141       1.000000       0.878983    0.029187 -0.088344\n",
              "Present_Price -0.047584       0.878983       1.000000    0.203647  0.008057\n",
              "Kms_Driven    -0.524342       0.029187       0.203647    1.000000  0.089216\n",
              "Owner         -0.182104      -0.088344       0.008057    0.089216  1.000000"
            ]
          },
          "metadata": {
            "tags": []
          },
          "execution_count": 10
        }
      ]
    },
    {
      "cell_type": "code",
      "metadata": {
        "id": "abPj7ZE4CTdM",
        "outputId": "1d3aeb01-af42-4635-bdeb-e7b5593fc2c0",
        "colab": {
          "base_uri": "https://localhost:8080/",
          "height": 343
        }
      },
      "source": [
        "import seaborn as sb\n",
        "sb.heatmap(pearsoncorr, \n",
        "            xticklabels=pearsoncorr.columns,\n",
        "            yticklabels=pearsoncorr.columns,\n",
        "            cmap='RdBu_r',\n",
        "            annot=True,\n",
        "            linewidth=0.5)"
      ],
      "execution_count": null,
      "outputs": [
        {
          "output_type": "execute_result",
          "data": {
            "text/plain": [
              "<matplotlib.axes._subplots.AxesSubplot at 0x7facd6c661d0>"
            ]
          },
          "metadata": {
            "tags": []
          },
          "execution_count": 12
        },
        {
          "output_type": "display_data",
          "data": {
            "image/png": "[encoded data removed]",
            "text/plain": [
              "<Figure size 432x288 with 2 Axes>"
            ]
          },
          "metadata": {
            "tags": [],
            "needs_background": "light"
          }
        }
      ]
    },
    {
      "cell_type": "code",
      "metadata": {
        "id": "DveMyt0oCh0I"
      },
      "source": [
        "list_of_selling  = da['Selling_Price']\n",
        "list_of_present  = da['Present_Price']\n",
        "list_of_kms = da['Kms_Driven']"
      ],
      "execution_count": null,
      "outputs": []
    },
    {
      "cell_type": "code",
      "metadata": {
        "id": "dw9lLTU7D146",
        "outputId": "b872c00f-18b6-47c5-afdc-1e4466248f2e",
        "colab": {
          "base_uri": "https://localhost:8080/",
          "height": 52
        }
      },
      "source": [
        "corr = stats.pearsonr(list_of_selling,list_of_present)\n",
        "print('Correlation between Selling_Price and Present_Price columns:\\n',corr)"
      ],
      "execution_count": null,
      "outputs": [
        {
          "output_type": "stream",
          "text": [
            "Correlation between Selling_Price and Present_Price columns:\n",
            " (0.8117574047718893, 0.004347286932885836)\n"
          ],
          "name": "stdout"
        }
      ]
    },
    {
      "cell_type": "markdown",
      "metadata": {
        "id": "GXDMnvSaZGTN"
      },
      "source": [
        "Label Encoding"
      ]
    },
    {
      "cell_type": "code",
      "metadata": {
        "id": "xOzYhXIFYojd",
        "outputId": "ec6463aa-6ef7-4fc5-934d-ab013d7825be",
        "colab": {
          "base_uri": "https://localhost:8080/",
          "height": 662
        }
      },
      "source": [
        "from sklearn import preprocessing\n",
        "le=preprocessing.LabelEncoder()\n",
        "df['Transmission']=le.fit_transform(df['Transmission'])\n",
        "df['Fuel_Type']=le.fit_transform(df['Fuel_Type'])\n",
        "df['Seller_Type']=le.fit_transform(df['Seller_Type'])\n",
        "df.tail(20)"
      ],
      "execution_count": 105,
      "outputs": [
        {
          "output_type": "execute_result",
          "data": {
            "text/html": [
              "<div>\n",
              "<style scoped>\n",
              "    .dataframe tbody tr th:only-of-type {\n",
              "        vertical-align: middle;\n",
              "    }\n",
              "\n",
              "    .dataframe tbody tr th {\n",
              "        vertical-align: top;\n",
              "    }\n",
              "\n",
              "    .dataframe thead th {\n",
              "        text-align: right;\n",
              "    }\n",
              "</style>\n",
              "<table border=\"1\" class=\"dataframe\">\n",
              "  <thead>\n",
              "    <tr style=\"text-align: right;\">\n",
              "      <th></th>\n",
              "      <th>Car_Name</th>\n",
              "      <th>Year</th>\n",
              "      <th>Selling_Price</th>\n",
              "      <th>Present_Price</th>\n",
              "      <th>Kms_Driven</th>\n",
              "      <th>Fuel_Type</th>\n",
              "      <th>Seller_Type</th>\n",
              "      <th>Transmission</th>\n",
              "      <th>Owner</th>\n",
              "    </tr>\n",
              "  </thead>\n",
              "  <tbody>\n",
              "    <tr>\n",
              "      <th>281</th>\n",
              "      <td>city</td>\n",
              "      <td>2006</td>\n",
              "      <td>2.10</td>\n",
              "      <td>7.60</td>\n",
              "      <td>50456</td>\n",
              "      <td>2</td>\n",
              "      <td>0</td>\n",
              "      <td>1</td>\n",
              "      <td>0</td>\n",
              "    </tr>\n",
              "    <tr>\n",
              "      <th>282</th>\n",
              "      <td>city</td>\n",
              "      <td>2014</td>\n",
              "      <td>8.25</td>\n",
              "      <td>14.00</td>\n",
              "      <td>63000</td>\n",
              "      <td>1</td>\n",
              "      <td>0</td>\n",
              "      <td>1</td>\n",
              "      <td>0</td>\n",
              "    </tr>\n",
              "    <tr>\n",
              "      <th>283</th>\n",
              "      <td>city</td>\n",
              "      <td>2016</td>\n",
              "      <td>8.99</td>\n",
              "      <td>11.80</td>\n",
              "      <td>9010</td>\n",
              "      <td>2</td>\n",
              "      <td>0</td>\n",
              "      <td>1</td>\n",
              "      <td>0</td>\n",
              "    </tr>\n",
              "    <tr>\n",
              "      <th>284</th>\n",
              "      <td>brio</td>\n",
              "      <td>2013</td>\n",
              "      <td>3.50</td>\n",
              "      <td>5.90</td>\n",
              "      <td>9800</td>\n",
              "      <td>2</td>\n",
              "      <td>0</td>\n",
              "      <td>1</td>\n",
              "      <td>0</td>\n",
              "    </tr>\n",
              "    <tr>\n",
              "      <th>285</th>\n",
              "      <td>jazz</td>\n",
              "      <td>2016</td>\n",
              "      <td>7.40</td>\n",
              "      <td>8.50</td>\n",
              "      <td>15059</td>\n",
              "      <td>2</td>\n",
              "      <td>0</td>\n",
              "      <td>0</td>\n",
              "      <td>0</td>\n",
              "    </tr>\n",
              "    <tr>\n",
              "      <th>286</th>\n",
              "      <td>jazz</td>\n",
              "      <td>2016</td>\n",
              "      <td>5.65</td>\n",
              "      <td>7.90</td>\n",
              "      <td>28569</td>\n",
              "      <td>2</td>\n",
              "      <td>0</td>\n",
              "      <td>1</td>\n",
              "      <td>0</td>\n",
              "    </tr>\n",
              "    <tr>\n",
              "      <th>287</th>\n",
              "      <td>amaze</td>\n",
              "      <td>2015</td>\n",
              "      <td>5.75</td>\n",
              "      <td>7.50</td>\n",
              "      <td>44000</td>\n",
              "      <td>2</td>\n",
              "      <td>0</td>\n",
              "      <td>0</td>\n",
              "      <td>0</td>\n",
              "    </tr>\n",
              "    <tr>\n",
              "      <th>288</th>\n",
              "      <td>city</td>\n",
              "      <td>2015</td>\n",
              "      <td>8.40</td>\n",
              "      <td>13.60</td>\n",
              "      <td>34000</td>\n",
              "      <td>2</td>\n",
              "      <td>0</td>\n",
              "      <td>1</td>\n",
              "      <td>0</td>\n",
              "    </tr>\n",
              "    <tr>\n",
              "      <th>289</th>\n",
              "      <td>city</td>\n",
              "      <td>2016</td>\n",
              "      <td>10.11</td>\n",
              "      <td>13.60</td>\n",
              "      <td>10980</td>\n",
              "      <td>2</td>\n",
              "      <td>0</td>\n",
              "      <td>1</td>\n",
              "      <td>0</td>\n",
              "    </tr>\n",
              "    <tr>\n",
              "      <th>290</th>\n",
              "      <td>amaze</td>\n",
              "      <td>2014</td>\n",
              "      <td>4.50</td>\n",
              "      <td>6.40</td>\n",
              "      <td>19000</td>\n",
              "      <td>2</td>\n",
              "      <td>0</td>\n",
              "      <td>1</td>\n",
              "      <td>0</td>\n",
              "    </tr>\n",
              "    <tr>\n",
              "      <th>291</th>\n",
              "      <td>brio</td>\n",
              "      <td>2015</td>\n",
              "      <td>5.40</td>\n",
              "      <td>6.10</td>\n",
              "      <td>31427</td>\n",
              "      <td>2</td>\n",
              "      <td>0</td>\n",
              "      <td>1</td>\n",
              "      <td>0</td>\n",
              "    </tr>\n",
              "    <tr>\n",
              "      <th>292</th>\n",
              "      <td>jazz</td>\n",
              "      <td>2016</td>\n",
              "      <td>6.40</td>\n",
              "      <td>8.40</td>\n",
              "      <td>12000</td>\n",
              "      <td>2</td>\n",
              "      <td>0</td>\n",
              "      <td>1</td>\n",
              "      <td>0</td>\n",
              "    </tr>\n",
              "    <tr>\n",
              "      <th>293</th>\n",
              "      <td>city</td>\n",
              "      <td>2010</td>\n",
              "      <td>3.25</td>\n",
              "      <td>9.90</td>\n",
              "      <td>38000</td>\n",
              "      <td>2</td>\n",
              "      <td>0</td>\n",
              "      <td>1</td>\n",
              "      <td>0</td>\n",
              "    </tr>\n",
              "    <tr>\n",
              "      <th>294</th>\n",
              "      <td>amaze</td>\n",
              "      <td>2014</td>\n",
              "      <td>3.75</td>\n",
              "      <td>6.80</td>\n",
              "      <td>33019</td>\n",
              "      <td>2</td>\n",
              "      <td>0</td>\n",
              "      <td>1</td>\n",
              "      <td>0</td>\n",
              "    </tr>\n",
              "    <tr>\n",
              "      <th>295</th>\n",
              "      <td>city</td>\n",
              "      <td>2015</td>\n",
              "      <td>8.55</td>\n",
              "      <td>13.09</td>\n",
              "      <td>60076</td>\n",
              "      <td>1</td>\n",
              "      <td>0</td>\n",
              "      <td>1</td>\n",
              "      <td>0</td>\n",
              "    </tr>\n",
              "    <tr>\n",
              "      <th>296</th>\n",
              "      <td>city</td>\n",
              "      <td>2016</td>\n",
              "      <td>9.50</td>\n",
              "      <td>11.60</td>\n",
              "      <td>33988</td>\n",
              "      <td>1</td>\n",
              "      <td>0</td>\n",
              "      <td>1</td>\n",
              "      <td>0</td>\n",
              "    </tr>\n",
              "    <tr>\n",
              "      <th>297</th>\n",
              "      <td>brio</td>\n",
              "      <td>2015</td>\n",
              "      <td>4.00</td>\n",
              "      <td>5.90</td>\n",
              "      <td>60000</td>\n",
              "      <td>2</td>\n",
              "      <td>0</td>\n",
              "      <td>1</td>\n",
              "      <td>0</td>\n",
              "    </tr>\n",
              "    <tr>\n",
              "      <th>298</th>\n",
              "      <td>city</td>\n",
              "      <td>2009</td>\n",
              "      <td>3.35</td>\n",
              "      <td>11.00</td>\n",
              "      <td>87934</td>\n",
              "      <td>2</td>\n",
              "      <td>0</td>\n",
              "      <td>1</td>\n",
              "      <td>0</td>\n",
              "    </tr>\n",
              "    <tr>\n",
              "      <th>299</th>\n",
              "      <td>city</td>\n",
              "      <td>2017</td>\n",
              "      <td>11.50</td>\n",
              "      <td>12.50</td>\n",
              "      <td>9000</td>\n",
              "      <td>1</td>\n",
              "      <td>0</td>\n",
              "      <td>1</td>\n",
              "      <td>0</td>\n",
              "    </tr>\n",
              "    <tr>\n",
              "      <th>300</th>\n",
              "      <td>brio</td>\n",
              "      <td>2016</td>\n",
              "      <td>5.30</td>\n",
              "      <td>5.90</td>\n",
              "      <td>5464</td>\n",
              "      <td>2</td>\n",
              "      <td>0</td>\n",
              "      <td>1</td>\n",
              "      <td>0</td>\n",
              "    </tr>\n",
              "  </tbody>\n",
              "</table>\n",
              "</div>"
            ],
            "text/plain": [
              "    Car_Name  Year  Selling_Price  ...  Seller_Type  Transmission  Owner\n",
              "281     city  2006           2.10  ...            0             1      0\n",
              "282     city  2014           8.25  ...            0             1      0\n",
              "283     city  2016           8.99  ...            0             1      0\n",
              "284     brio  2013           3.50  ...            0             1      0\n",
              "285     jazz  2016           7.40  ...            0             0      0\n",
              "286     jazz  2016           5.65  ...            0             1      0\n",
              "287    amaze  2015           5.75  ...            0             0      0\n",
              "288     city  2015           8.40  ...            0             1      0\n",
              "289     city  2016          10.11  ...            0             1      0\n",
              "290    amaze  2014           4.50  ...            0             1      0\n",
              "291     brio  2015           5.40  ...            0             1      0\n",
              "292     jazz  2016           6.40  ...            0             1      0\n",
              "293     city  2010           3.25  ...            0             1      0\n",
              "294    amaze  2014           3.75  ...            0             1      0\n",
              "295     city  2015           8.55  ...            0             1      0\n",
              "296     city  2016           9.50  ...            0             1      0\n",
              "297     brio  2015           4.00  ...            0             1      0\n",
              "298     city  2009           3.35  ...            0             1      0\n",
              "299     city  2017          11.50  ...            0             1      0\n",
              "300     brio  2016           5.30  ...            0             1      0\n",
              "\n",
              "[20 rows x 9 columns]"
            ]
          },
          "metadata": {
            "tags": []
          },
          "execution_count": 105
        }
      ]
    },
    {
      "cell_type": "markdown",
      "metadata": {
        "id": "GdScyRTvIpSe"
      },
      "source": [
        "PCA\n"
      ]
    },
    {
      "cell_type": "code",
      "metadata": {
        "id": "dLlC6cJvD4l6",
        "outputId": "750f00e7-6427-4114-c74f-3011c5bd2b03",
        "colab": {
          "base_uri": "https://localhost:8080/",
          "height": 191
        }
      },
      "source": [
        "from sklearn.preprocessing import StandardScaler\n",
        "features = ['Selling_Price', 'Present_Price', 'Kms_Driven','Fuel_Type','Seller_Type','Transmission','Owner']\n",
        "x = df.loc[:, features].values\n",
        "print(x[:3])\n",
        "y = df.loc[:,['Car_Name']].values\n",
        "x = StandardScaler().fit_transform(x)\n",
        "print(x[:3])\n",
        "x.shape"
      ],
      "execution_count": 106,
      "outputs": [
        {
          "output_type": "stream",
          "text": [
            "[[3.35e+00 5.59e+00 2.70e+04 2.00e+00 0.00e+00 1.00e+00 0.00e+00]\n",
            " [4.75e+00 9.54e+00 4.30e+04 1.00e+00 0.00e+00 1.00e+00 0.00e+00]\n",
            " [7.25e+00 9.85e+00 6.90e+03 2.00e+00 0.00e+00 1.00e+00 0.00e+00]]\n",
            "[[-0.25841591 -0.23621461 -0.25622446  0.50018321 -0.73728539  0.39148015\n",
            "  -0.17450057]\n",
            " [ 0.01748088  0.22150462  0.1559105  -1.85224094 -0.73728539  0.39148015\n",
            "  -0.17450057]\n",
            " [ 0.51015372  0.25742689 -0.77396901  0.50018321 -0.73728539  0.39148015\n",
            "  -0.17450057]]\n"
          ],
          "name": "stdout"
        },
        {
          "output_type": "execute_result",
          "data": {
            "text/plain": [
              "(301, 7)"
            ]
          },
          "metadata": {
            "tags": []
          },
          "execution_count": 106
        }
      ]
    },
    {
      "cell_type": "code",
      "metadata": {
        "id": "NU9mBhYJGs2R",
        "outputId": "431f7d1d-7eed-4a87-c199-3415dcecfa06",
        "colab": {
          "base_uri": "https://localhost:8080/",
          "height": 355
        }
      },
      "source": [
        "from sklearn.decomposition import PCA\n",
        "pca = PCA(n_components=4)\n",
        "principalComponents = pca.fit_transform(x)\n",
        "principalDf = pd.DataFrame(data = principalComponents, columns = ['principal component 1', 'principal component 2','principal component 3','principal component 4'])\n",
        "principalDf.head(10)"
      ],
      "execution_count": 107,
      "outputs": [
        {
          "output_type": "execute_result",
          "data": {
            "text/html": [
              "<div>\n",
              "<style scoped>\n",
              "    .dataframe tbody tr th:only-of-type {\n",
              "        vertical-align: middle;\n",
              "    }\n",
              "\n",
              "    .dataframe tbody tr th {\n",
              "        vertical-align: top;\n",
              "    }\n",
              "\n",
              "    .dataframe thead th {\n",
              "        text-align: right;\n",
              "    }\n",
              "</style>\n",
              "<table border=\"1\" class=\"dataframe\">\n",
              "  <thead>\n",
              "    <tr style=\"text-align: right;\">\n",
              "      <th></th>\n",
              "      <th>principal component 1</th>\n",
              "      <th>principal component 2</th>\n",
              "      <th>principal component 3</th>\n",
              "      <th>principal component 4</th>\n",
              "    </tr>\n",
              "  </thead>\n",
              "  <tbody>\n",
              "    <tr>\n",
              "      <th>0</th>\n",
              "      <td>-0.288886</td>\n",
              "      <td>-0.563785</td>\n",
              "      <td>0.108548</td>\n",
              "      <td>-0.118054</td>\n",
              "    </tr>\n",
              "    <tr>\n",
              "      <th>1</th>\n",
              "      <td>1.083229</td>\n",
              "      <td>-0.590524</td>\n",
              "      <td>1.145368</td>\n",
              "      <td>-0.315294</td>\n",
              "    </tr>\n",
              "    <tr>\n",
              "      <th>2</th>\n",
              "      <td>0.321506</td>\n",
              "      <td>-0.874029</td>\n",
              "      <td>-0.433518</td>\n",
              "      <td>-0.487198</td>\n",
              "    </tr>\n",
              "    <tr>\n",
              "      <th>3</th>\n",
              "      <td>-0.515504</td>\n",
              "      <td>-0.864992</td>\n",
              "      <td>-0.212276</td>\n",
              "      <td>-0.358210</td>\n",
              "    </tr>\n",
              "    <tr>\n",
              "      <th>4</th>\n",
              "      <td>0.898449</td>\n",
              "      <td>-0.616018</td>\n",
              "      <td>1.173510</td>\n",
              "      <td>-0.292359</td>\n",
              "    </tr>\n",
              "    <tr>\n",
              "      <th>5</th>\n",
              "      <td>1.431709</td>\n",
              "      <td>-1.227197</td>\n",
              "      <td>0.281970</td>\n",
              "      <td>-0.911034</td>\n",
              "    </tr>\n",
              "    <tr>\n",
              "      <th>6</th>\n",
              "      <td>0.204839</td>\n",
              "      <td>-0.715644</td>\n",
              "      <td>-0.197129</td>\n",
              "      <td>-0.314861</td>\n",
              "    </tr>\n",
              "    <tr>\n",
              "      <th>7</th>\n",
              "      <td>1.177837</td>\n",
              "      <td>-0.759173</td>\n",
              "      <td>0.925990</td>\n",
              "      <td>-0.459501</td>\n",
              "    </tr>\n",
              "    <tr>\n",
              "      <th>8</th>\n",
              "      <td>1.388265</td>\n",
              "      <td>-0.976303</td>\n",
              "      <td>0.612855</td>\n",
              "      <td>-0.669863</td>\n",
              "    </tr>\n",
              "    <tr>\n",
              "      <th>9</th>\n",
              "      <td>1.333711</td>\n",
              "      <td>-0.650742</td>\n",
              "      <td>1.029769</td>\n",
              "      <td>-0.374041</td>\n",
              "    </tr>\n",
              "  </tbody>\n",
              "</table>\n",
              "</div>"
            ],
            "text/plain": [
              "   principal component 1  ...  principal component 4\n",
              "0              -0.288886  ...              -0.118054\n",
              "1               1.083229  ...              -0.315294\n",
              "2               0.321506  ...              -0.487198\n",
              "3              -0.515504  ...              -0.358210\n",
              "4               0.898449  ...              -0.292359\n",
              "5               1.431709  ...              -0.911034\n",
              "6               0.204839  ...              -0.314861\n",
              "7               1.177837  ...              -0.459501\n",
              "8               1.388265  ...              -0.669863\n",
              "9               1.333711  ...              -0.374041\n",
              "\n",
              "[10 rows x 4 columns]"
            ]
          },
          "metadata": {
            "tags": []
          },
          "execution_count": 107
        }
      ]
    },
    {
      "cell_type": "markdown",
      "metadata": {
        "id": "Vg4E7CbzRcfc"
      },
      "source": [
        "Processing"
      ]
    },
    {
      "cell_type": "code",
      "metadata": {
        "id": "tYcQBjN8KRKI",
        "outputId": "efce0e79-d45c-48ae-b1a5-2f9fdb5c96d3",
        "colab": {
          "base_uri": "https://localhost:8080/",
          "height": 208
        }
      },
      "source": [
        "df[['Year', 'Selling_Price', 'Present_Price', 'Kms_Driven',\n",
        "       ]].info()"
      ],
      "execution_count": null,
      "outputs": [
        {
          "output_type": "stream",
          "text": [
            "<class 'pandas.core.frame.DataFrame'>\n",
            "RangeIndex: 301 entries, 0 to 300\n",
            "Data columns (total 4 columns):\n",
            " #   Column         Non-Null Count  Dtype  \n",
            "---  ------         --------------  -----  \n",
            " 0   Year           301 non-null    int64  \n",
            " 1   Selling_Price  301 non-null    float64\n",
            " 2   Present_Price  301 non-null    float64\n",
            " 3   Kms_Driven     301 non-null    int64  \n",
            "dtypes: float64(2), int64(2)\n",
            "memory usage: 9.5 KB\n"
          ],
          "name": "stdout"
        }
      ]
    },
    {
      "cell_type": "code",
      "metadata": {
        "id": "CbPkTjJuWyLb"
      },
      "source": [
        ""
      ],
      "execution_count": null,
      "outputs": []
    },
    {
      "cell_type": "markdown",
      "metadata": {
        "id": "pgmzXO2oUD6c"
      },
      "source": [
        ""
      ]
    },
    {
      "cell_type": "markdown",
      "metadata": {
        "id": "erppYSx5RiXk"
      },
      "source": [
        "Regression Analysis"
      ]
    },
    {
      "cell_type": "code",
      "metadata": {
        "id": "PrfZSYG2LoLd"
      },
      "source": [
        "X = df[['Year','Present_Price','Kms_Driven','Fuel_Type','Seller_Type','Transmission','Owner']].values.reshape(-1,7)\n",
        "y = df[['Selling_Price']].values.reshape(-1,1)"
      ],
      "execution_count": 88,
      "outputs": []
    },
    {
      "cell_type": "code",
      "metadata": {
        "id": "Vw_vnrOrMGHb"
      },
      "source": [
        "model = LinearRegression()"
      ],
      "execution_count": 89,
      "outputs": []
    },
    {
      "cell_type": "code",
      "metadata": {
        "id": "yzLYzggQMP0c",
        "outputId": "12705ea3-c609-4ee0-cb0f-0f80e3bedfea",
        "colab": {
          "base_uri": "https://localhost:8080/",
          "height": 35
        }
      },
      "source": [
        "model.fit(X, y)"
      ],
      "execution_count": 90,
      "outputs": [
        {
          "output_type": "execute_result",
          "data": {
            "text/plain": [
              "LinearRegression(copy_X=True, fit_intercept=True, n_jobs=None, normalize=False)"
            ]
          },
          "metadata": {
            "tags": []
          },
          "execution_count": 90
        }
      ]
    },
    {
      "cell_type": "code",
      "metadata": {
        "id": "elgb8laBNNMi"
      },
      "source": [
        "model = LinearRegression().fit(X,y)"
      ],
      "execution_count": 91,
      "outputs": []
    },
    {
      "cell_type": "code",
      "metadata": {
        "id": "hed3G4NTNTWz",
        "outputId": "e8e3d001-c029-4fe8-a06e-f407ef9b8138",
        "colab": {
          "base_uri": "https://localhost:8080/",
          "height": 35
        }
      },
      "source": [
        "r_sq = model.score(X,y)\n",
        "print('coefficient of determination:', r_sq)"
      ],
      "execution_count": 92,
      "outputs": [
        {
          "output_type": "stream",
          "text": [
            "coefficient of determination: 0.8785205982910809\n"
          ],
          "name": "stdout"
        }
      ]
    },
    {
      "cell_type": "code",
      "metadata": {
        "id": "uYn6ln2_NZ2v",
        "outputId": "888e97c4-f1ae-457a-86fd-e823057d4b74",
        "colab": {
          "base_uri": "https://localhost:8080/",
          "height": 69
        }
      },
      "source": [
        "print('intercept:', model.intercept_)\n",
        "intercept: 5.633333333333329\n",
        "print('slope:', model.coef_)\n",
        "slope: [0.54]"
      ],
      "execution_count": 93,
      "outputs": [
        {
          "output_type": "stream",
          "text": [
            "intercept: [-807.57797279]\n",
            "slope: [[ 4.03947271e-01  4.45986832e-01 -6.37410323e-06 -1.49298752e+00\n",
            "  -1.10367889e+00 -1.43041666e+00 -6.80557441e-01]]\n"
          ],
          "name": "stdout"
        }
      ]
    },
    {
      "cell_type": "code",
      "metadata": {
        "id": "XTA8XA2KNgkA"
      },
      "source": [
        "y_pred = model.predict(X)"
      ],
      "execution_count": 94,
      "outputs": []
    },
    {
      "cell_type": "code",
      "metadata": {
        "id": "FeepRJBRNnUF",
        "outputId": "96c65738-9789-45e2-9221-7a836bb0f6b7",
        "colab": {
          "base_uri": "https://localhost:8080/",
          "height": 415
        }
      },
      "source": [
        "de = pd.DataFrame({'Actual': y.flatten(), 'Predicted': y_pred.flatten()})\n",
        "de"
      ],
      "execution_count": 95,
      "outputs": [
        {
          "output_type": "execute_result",
          "data": {
            "text/html": [
              "<div>\n",
              "<style scoped>\n",
              "    .dataframe tbody tr th:only-of-type {\n",
              "        vertical-align: middle;\n",
              "    }\n",
              "\n",
              "    .dataframe tbody tr th {\n",
              "        vertical-align: top;\n",
              "    }\n",
              "\n",
              "    .dataframe thead th {\n",
              "        text-align: right;\n",
              "    }\n",
              "</style>\n",
              "<table border=\"1\" class=\"dataframe\">\n",
              "  <thead>\n",
              "    <tr style=\"text-align: right;\">\n",
              "      <th></th>\n",
              "      <th>Actual</th>\n",
              "      <th>Predicted</th>\n",
              "    </tr>\n",
              "  </thead>\n",
              "  <tbody>\n",
              "    <tr>\n",
              "      <th>0</th>\n",
              "      <td>3.35</td>\n",
              "      <td>3.876404</td>\n",
              "    </tr>\n",
              "    <tr>\n",
              "      <th>1</th>\n",
              "      <td>4.75</td>\n",
              "      <td>6.625107</td>\n",
              "    </tr>\n",
              "    <tr>\n",
              "      <th>2</th>\n",
              "      <td>7.25</td>\n",
              "      <td>7.116269</td>\n",
              "    </tr>\n",
              "    <tr>\n",
              "      <th>3</th>\n",
              "      <td>2.85</td>\n",
              "      <td>2.161297</td>\n",
              "    </tr>\n",
              "    <tr>\n",
              "      <th>4</th>\n",
              "      <td>4.60</td>\n",
              "      <td>5.841775</td>\n",
              "    </tr>\n",
              "    <tr>\n",
              "      <th>...</th>\n",
              "      <td>...</td>\n",
              "      <td>...</td>\n",
              "    </tr>\n",
              "    <tr>\n",
              "      <th>296</th>\n",
              "      <td>9.50</td>\n",
              "      <td>8.813125</td>\n",
              "    </tr>\n",
              "    <tr>\n",
              "      <th>297</th>\n",
              "      <td>4.00</td>\n",
              "      <td>4.208262</td>\n",
              "    </tr>\n",
              "    <tr>\n",
              "      <th>298</th>\n",
              "      <td>3.35</td>\n",
              "      <td>3.881057</td>\n",
              "    </tr>\n",
              "    <tr>\n",
              "      <th>299</th>\n",
              "      <td>11.50</td>\n",
              "      <td>9.777736</td>\n",
              "    </tr>\n",
              "    <tr>\n",
              "      <th>300</th>\n",
              "      <td>5.30</td>\n",
              "      <td>4.959827</td>\n",
              "    </tr>\n",
              "  </tbody>\n",
              "</table>\n",
              "<p>301 rows × 2 columns</p>\n",
              "</div>"
            ],
            "text/plain": [
              "     Actual  Predicted\n",
              "0      3.35   3.876404\n",
              "1      4.75   6.625107\n",
              "2      7.25   7.116269\n",
              "3      2.85   2.161297\n",
              "4      4.60   5.841775\n",
              "..      ...        ...\n",
              "296    9.50   8.813125\n",
              "297    4.00   4.208262\n",
              "298    3.35   3.881057\n",
              "299   11.50   9.777736\n",
              "300    5.30   4.959827\n",
              "\n",
              "[301 rows x 2 columns]"
            ]
          },
          "metadata": {
            "tags": []
          },
          "execution_count": 95
        }
      ]
    },
    {
      "cell_type": "code",
      "metadata": {
        "id": "0Ij0d3y7Nr01",
        "outputId": "d5752b08-8011-4106-dcef-b94391bbc4a3",
        "colab": {
          "base_uri": "https://localhost:8080/",
          "height": 542
        }
      },
      "source": [
        "import plotly.express as px\n",
        "fig = px.scatter(de, x=\"Actual\", y=\"Predicted\", color='Predicted', marginal_y=\"violin\",\n",
        "           marginal_x=\"box\", trendline=\"ols\", template=\"simple_white\")\n",
        "fig.show()"
      ],
      "execution_count": 96,
      "outputs": [
        {
          "output_type": "display_data",
          "data": {
            "text/html": [
              "<html>\n",
              "<head><meta charset=\"utf-8\" /></head>\n",
              "<body>\n",
              "    <div>\n",
              "            <script src=\"https://cdnjs.cloudflare.com/ajax/libs/mathjax/2.7.5/MathJax.js?config=TeX-AMS-MML_SVG\"></script><script type=\"text/javascript\">if (window.MathJax) {MathJax.Hub.Config({SVG: {font: \"STIX-Web\"}});}</script>\n",
              "                <script type=\"text/javascript\">window.PlotlyConfig = {MathJaxConfig: 'local'};</script>\n",
              "        <script src=\"https://cdn.plot.ly/plotly-latest.min.js\"></script>    \n",
              "            <div id=\"0edb05bc-afd8-42bb-b537-d3907db04df8\" class=\"plotly-graph-div\" style=\"height:525px; width:100%;\"></div>\n",
              "            <script type=\"text/javascript\">\n",
              "                \n",
              "                    window.PLOTLYENV=window.PLOTLYENV || {};\n",
              "                    \n",
              "                if (document.getElementById(\"0edb05bc-afd8-42bb-b537-d3907db04df8\")) {\n",
              "                    Plotly.newPlot(\n",
              "                        '0edb05bc-afd8-42bb-b537-d3907db04df8',\n",
              "                        [{\"hoverlabel\": {\"namelength\": 0}, \"hovertemplate\": \"Actual=%{x}<br>Predicted=%{marker.color}\", \"legendgroup\": \"\", \"marker\": {\"color\": [3.8764039700809008, 6.625106558963353, 7.116269161548871, 2.1612965706193563, 5.841774744461986, 9.035064764101207, 5.460991068838666, 7.0792398881682175, 7.691921173808737, 7.160524071455029, 4.359224062565431, 7.7566372131886965, 7.727299858759466, 5.232217427986484, 2.257739381845454, 8.394431910749518, 7.998911204683736, 8.394431910749518, 6.989152995399536, 3.2344686178904567, 3.965628312905892, 5.298567141025728, 5.027662577503406, 2.8099334105629623, 2.7557404071856126, 2.4415887818017836, 3.4179784958355413, 4.454795354013299, 1.417381964348806, 7.794881832573424, 4.5796551088417345, 2.1789957680946372, 6.140277236535326, 7.199160224216143, 6.356245111470685, 6.462817269784637, 4.859644935339475, -3.784321634785215, 3.975998809105704, 0.2757989099139877, 7.147347427595378, 3.0327570920688913, 1.9508626048447013, 6.35127331095066, 1.628543241491684, 8.259924935717663, 2.9210330745878537, -0.23961115526594767, 5.233046061406412, 8.10507268786455, 16.655191713125646, 18.27948262249072, 14.412232483931007, 15.762369382994962, 0.7960903047018064, 7.227573401761674, 4.943342005488375, 7.889539989844934, 3.6559099167043314, 20.255190800674768, 9.196335537909931, 5.134772141734288, 20.019348981135636, 20.620893451826873, 21.810542670040718, 5.861199727794656, 14.452176865332262, 10.176995434313085, 5.910534543337462, 11.612428328008832, 5.610735545687589, 7.115665097921124, 9.094349886217287, 2.616094926634787, 6.502037732662984, 4.762628378430691, 7.239642358315791, 3.5928341487207263, 11.042017062365062, 16.755309752571634, 10.350459987141221, 6.698405663411904, 16.91867848056063, 9.213139998181646, 4.159063036949419, 6.287070513047524, 42.2338374118649, 6.518453117259469, 3.5501285777130533, 4.3153452216851065, 7.440322558788466, 9.853113498576818, 3.5518747888310145, 18.27948262249072, 10.154456250607268, 8.588423338091161, 16.425493764792805, 11.025020030248356, 9.16447139585921, 10.234209384912674, 2.0879066865979894, 2.4663735757328595, 2.431961434047139, 2.3695312933082278, 2.2930681057605398, 1.7743774967515265, 1.2046839002963452, 0.6211809033618465, 1.8139004052800374, 2.249086793468109, 2.0152659570487685, 1.8731795653263816, 1.4775091486715155, 1.6609419671425485, 1.4029476330097168, 1.3997605813942755, 0.4930674402434079, 1.613844280522585, 1.3455807039326828, 0.8607670272336918, 1.785265035304974, -0.1350834015423743, 1.7432139894431202, 0.40701704662785687, 0.35103970216800917, -1.042464051520028, 2.0790024420937243, 1.5718247583203038, 2.032487520030145, 2.00635970860435, 1.9814946941838798, 1.1066820888876236, 2.0649794149860554, 1.6801544541415296, 1.949636201670728, 1.1538664843166089, 0.837152246794858, 0.296818188814882, 1.5520510107238579, 1.1735841215891014, 0.37902509879631907, 1.4889614163200804, 1.045486689991776, 1.474930373451798, 0.7339338571991902, -0.1159936942750619, 0.7071395625824834, 0.8606376962989088, -1.0316366311709544, 1.525903159896643, -0.42994183349742343, 1.307349572746375, 0.0025285548949796066, 0.20250452204652447, 0.7932350605872216, 3.294062585820484, 1.7999028900114808, 1.0837313093765033, 1.8496168873314218, 3.2959748167896805, -0.4893733244661007, 0.6735402231896614, -0.0070325999512306225, -0.9124429046953537, 1.4112494593483689, 2.927716512524853, 1.4985726696700112, 0.5452964724904632, 0.29689335230602865, 1.0073021888115363, -0.02102356401655925, 1.058293010717648, 0.6498658324578628, 3.3131848955127907, 0.9307768791193212, -0.8871484428752865, -0.4830192606368655, 2.7913046915655286, 1.9929813250388406, -2.053427422408049, -0.5111279763794983, 1.155022533111378, 0.11526146933078962, 0.12356984687244221, -2.4837181503964985, -0.2949459230072762, 0.35806993319909, 0.07129418461931891, 0.1872908397788251, -3.2801291440549676, -2.019880218813114, -0.9418325948037136, -3.034269795241471, -0.495832274464874, -1.9396376737161063, 0.775328917893944, -3.496645952191443, -1.1469217302219477, -1.4095208976484628, -2.4550265281983457, -3.0332312293247696, 3.410631969074416, 4.321760868276328, 2.05437642316474, 3.754834914993012, 4.202635665906087, 5.867623856202044, 5.71012756882385, 6.3578784729976405, 5.859845172790983, 2.5710497093381264, 9.77102182354622, 8.284246529486154, 3.1703999857645613, 5.181196408074129, 4.709714920062424, 4.259378282718103, 4.243443024641124, 5.460382762330028, 4.71035233038549, 4.497675358493211, 5.406187041519843, 5.943091432058964, 7.253400552052199, 6.543454188043597, 2.251610299435015, 4.344210459855162, 1.9559943362638705, 6.050361377003469, 4.936487189336617, 6.549920196002063, 6.863938476812905, 9.903721611425567, 4.8487760912360045, 4.472878107671818, 6.863046102360613, 4.263527823921436, 9.084355057757648, 4.959784964504706, 2.572141877456943, 6.226783806225171, 4.230100721439726, 4.5186049689617676, 5.708214108372886, 6.524423783078987, 5.9802462414647835, 3.5527008017296566, 5.922194141995988, 3.0118074260327603, 5.644473076064969, 9.692694322493026, 5.205342706012061, 6.231113548709004, 7.1577385729168554, 5.221016625856578, 2.791443385612297, 8.112840519507017, 7.767777214616217, 7.865453972524847, 4.447534272747475, 8.242483405118037, 4.990179316506897, 4.290998528992759, 5.695433114303228, 4.826163605251622, 6.512234628386977, 4.454252577552779, 7.924722330810937, 5.232895842287348, 6.299242341959371, 4.361478183315285, 3.552174965427639, 6.2433287084189715, 2.8944362845193154, 4.48297612089425, 9.66314768673601, 7.866728793170978, 7.885978584927898, 6.084125883777574, 7.365092016519043, 4.498506542579321, 1.391748373007431, 8.890673036230964, 7.5685468558690445, 3.720347193077373, 7.488650018923295, 5.704527125430104, 6.454242994643778, 7.808087043447699, 8.358766170357285, 4.28864612996108, 4.479586370006814, 6.033133057931309, 4.11270299892044, 4.377682309624788, 8.907410167366834, 8.813124663099188, 4.208261751965438, 3.8810567730121193, 9.77773617409332, 4.959827116296424], \"coloraxis\": \"coloraxis\", \"symbol\": \"circle\"}, \"mode\": \"markers\", \"name\": \"\", \"showlegend\": false, \"type\": \"scatter\", \"x\": [3.35, 4.75, 7.25, 2.85, 4.6, 9.25, 6.75, 6.5, 8.75, 7.45, 2.85, 6.85, 7.5, 6.1, 2.25, 7.75, 7.25, 7.75, 3.25, 2.65, 2.85, 4.9, 4.4, 2.5, 2.9, 3.0, 4.15, 6.0, 1.95, 7.45, 3.1, 2.35, 4.95, 6.0, 5.5, 2.95, 4.65, 0.35, 3.0, 2.25, 5.85, 2.55, 1.95, 5.5, 1.25, 7.5, 2.65, 1.05, 5.8, 7.75, 14.9, 23.0, 18.0, 16.0, 2.75, 3.6, 4.5, 4.75, 4.1, 19.99, 6.95, 4.5, 18.75, 23.5, 33.0, 4.75, 19.75, 9.25, 4.35, 14.25, 3.95, 4.5, 7.45, 2.65, 4.9, 3.95, 5.5, 1.5, 5.25, 14.5, 14.73, 4.75, 23.0, 12.5, 3.49, 2.5, 35.0, 5.9, 3.45, 4.75, 3.8, 11.25, 3.51, 23.0, 4.0, 5.85, 20.75, 17.0, 7.05, 9.65, 1.75, 1.7, 1.65, 1.45, 1.35, 1.35, 1.35, 1.25, 1.2, 1.2, 1.2, 1.15, 1.15, 1.15, 1.15, 1.11, 1.1, 1.1, 1.1, 1.05, 1.05, 1.05, 1.05, 1.0, 0.95, 0.9, 0.9, 0.75, 0.8, 0.78, 0.75, 0.75, 0.75, 0.72, 0.65, 0.65, 0.65, 0.65, 0.6, 0.6, 0.6, 0.6, 0.6, 0.6, 0.6, 0.6, 0.55, 0.55, 0.52, 0.51, 0.5, 0.5, 0.5, 0.5, 0.5, 0.48, 0.48, 0.48, 0.48, 0.45, 0.45, 0.45, 0.45, 0.45, 0.45, 0.45, 0.45, 0.42, 0.42, 0.4, 0.4, 0.4, 0.4, 0.4, 0.38, 0.38, 0.35, 0.35, 0.35, 0.31, 0.3, 0.3, 0.3, 0.27, 0.25, 0.25, 0.25, 0.25, 0.25, 0.2, 0.2, 0.2, 0.2, 0.2, 0.2, 0.18, 0.17, 0.16, 0.15, 0.12, 0.1, 3.25, 4.4, 2.95, 2.75, 5.25, 5.75, 5.15, 7.9, 4.85, 3.1, 11.75, 11.25, 2.9, 5.25, 4.5, 2.9, 3.15, 6.45, 4.5, 3.5, 4.5, 6.0, 8.25, 5.11, 2.7, 5.25, 2.55, 4.95, 3.1, 6.15, 9.25, 11.45, 3.9, 5.5, 9.1, 3.1, 11.25, 4.8, 2.0, 5.35, 4.75, 4.4, 6.25, 5.95, 5.2, 3.75, 5.95, 4.0, 5.25, 12.9, 5.0, 5.4, 7.2, 5.25, 3.0, 10.25, 8.5, 8.4, 3.9, 9.15, 5.5, 4.0, 6.6, 4.0, 6.5, 3.65, 8.35, 4.8, 6.7, 4.1, 3.0, 7.5, 2.25, 5.3, 10.9, 8.65, 9.7, 6.0, 6.25, 5.25, 2.1, 8.25, 8.99, 3.5, 7.4, 5.65, 5.75, 8.4, 10.11, 4.5, 5.4, 6.4, 3.25, 3.75, 8.55, 9.5, 4.0, 3.35, 11.5, 5.3], \"xaxis\": \"x\", \"y\": [3.8764039700809008, 6.625106558963353, 7.116269161548871, 2.1612965706193563, 5.841774744461986, 9.035064764101207, 5.460991068838666, 7.0792398881682175, 7.691921173808737, 7.160524071455029, 4.359224062565431, 7.7566372131886965, 7.727299858759466, 5.232217427986484, 2.257739381845454, 8.394431910749518, 7.998911204683736, 8.394431910749518, 6.989152995399536, 3.2344686178904567, 3.965628312905892, 5.298567141025728, 5.027662577503406, 2.8099334105629623, 2.7557404071856126, 2.4415887818017836, 3.4179784958355413, 4.454795354013299, 1.417381964348806, 7.794881832573424, 4.5796551088417345, 2.1789957680946372, 6.140277236535326, 7.199160224216143, 6.356245111470685, 6.462817269784637, 4.859644935339475, -3.784321634785215, 3.975998809105704, 0.2757989099139877, 7.147347427595378, 3.0327570920688913, 1.9508626048447013, 6.35127331095066, 1.628543241491684, 8.259924935717663, 2.9210330745878537, -0.23961115526594767, 5.233046061406412, 8.10507268786455, 16.655191713125646, 18.27948262249072, 14.412232483931007, 15.762369382994962, 0.7960903047018064, 7.227573401761674, 4.943342005488375, 7.889539989844934, 3.6559099167043314, 20.255190800674768, 9.196335537909931, 5.134772141734288, 20.019348981135636, 20.620893451826873, 21.810542670040718, 5.861199727794656, 14.452176865332262, 10.176995434313085, 5.910534543337462, 11.612428328008832, 5.610735545687589, 7.115665097921124, 9.094349886217287, 2.616094926634787, 6.502037732662984, 4.762628378430691, 7.239642358315791, 3.5928341487207263, 11.042017062365062, 16.755309752571634, 10.350459987141221, 6.698405663411904, 16.91867848056063, 9.213139998181646, 4.159063036949419, 6.287070513047524, 42.2338374118649, 6.518453117259469, 3.5501285777130533, 4.3153452216851065, 7.440322558788466, 9.853113498576818, 3.5518747888310145, 18.27948262249072, 10.154456250607268, 8.588423338091161, 16.425493764792805, 11.025020030248356, 9.16447139585921, 10.234209384912674, 2.0879066865979894, 2.4663735757328595, 2.431961434047139, 2.3695312933082278, 2.2930681057605398, 1.7743774967515265, 1.2046839002963452, 0.6211809033618465, 1.8139004052800374, 2.249086793468109, 2.0152659570487685, 1.8731795653263816, 1.4775091486715155, 1.6609419671425485, 1.4029476330097168, 1.3997605813942755, 0.4930674402434079, 1.613844280522585, 1.3455807039326828, 0.8607670272336918, 1.785265035304974, -0.1350834015423743, 1.7432139894431202, 0.40701704662785687, 0.35103970216800917, -1.042464051520028, 2.0790024420937243, 1.5718247583203038, 2.032487520030145, 2.00635970860435, 1.9814946941838798, 1.1066820888876236, 2.0649794149860554, 1.6801544541415296, 1.949636201670728, 1.1538664843166089, 0.837152246794858, 0.296818188814882, 1.5520510107238579, 1.1735841215891014, 0.37902509879631907, 1.4889614163200804, 1.045486689991776, 1.474930373451798, 0.7339338571991902, -0.1159936942750619, 0.7071395625824834, 0.8606376962989088, -1.0316366311709544, 1.525903159896643, -0.42994183349742343, 1.307349572746375, 0.0025285548949796066, 0.20250452204652447, 0.7932350605872216, 3.294062585820484, 1.7999028900114808, 1.0837313093765033, 1.8496168873314218, 3.2959748167896805, -0.4893733244661007, 0.6735402231896614, -0.0070325999512306225, -0.9124429046953537, 1.4112494593483689, 2.927716512524853, 1.4985726696700112, 0.5452964724904632, 0.29689335230602865, 1.0073021888115363, -0.02102356401655925, 1.058293010717648, 0.6498658324578628, 3.3131848955127907, 0.9307768791193212, -0.8871484428752865, -0.4830192606368655, 2.7913046915655286, 1.9929813250388406, -2.053427422408049, -0.5111279763794983, 1.155022533111378, 0.11526146933078962, 0.12356984687244221, -2.4837181503964985, -0.2949459230072762, 0.35806993319909, 0.07129418461931891, 0.1872908397788251, -3.2801291440549676, -2.019880218813114, -0.9418325948037136, -3.034269795241471, -0.495832274464874, -1.9396376737161063, 0.775328917893944, -3.496645952191443, -1.1469217302219477, -1.4095208976484628, -2.4550265281983457, -3.0332312293247696, 3.410631969074416, 4.321760868276328, 2.05437642316474, 3.754834914993012, 4.202635665906087, 5.867623856202044, 5.71012756882385, 6.3578784729976405, 5.859845172790983, 2.5710497093381264, 9.77102182354622, 8.284246529486154, 3.1703999857645613, 5.181196408074129, 4.709714920062424, 4.259378282718103, 4.243443024641124, 5.460382762330028, 4.71035233038549, 4.497675358493211, 5.406187041519843, 5.943091432058964, 7.253400552052199, 6.543454188043597, 2.251610299435015, 4.344210459855162, 1.9559943362638705, 6.050361377003469, 4.936487189336617, 6.549920196002063, 6.863938476812905, 9.903721611425567, 4.8487760912360045, 4.472878107671818, 6.863046102360613, 4.263527823921436, 9.084355057757648, 4.959784964504706, 2.572141877456943, 6.226783806225171, 4.230100721439726, 4.5186049689617676, 5.708214108372886, 6.524423783078987, 5.9802462414647835, 3.5527008017296566, 5.922194141995988, 3.0118074260327603, 5.644473076064969, 9.692694322493026, 5.205342706012061, 6.231113548709004, 7.1577385729168554, 5.221016625856578, 2.791443385612297, 8.112840519507017, 7.767777214616217, 7.865453972524847, 4.447534272747475, 8.242483405118037, 4.990179316506897, 4.290998528992759, 5.695433114303228, 4.826163605251622, 6.512234628386977, 4.454252577552779, 7.924722330810937, 5.232895842287348, 6.299242341959371, 4.361478183315285, 3.552174965427639, 6.2433287084189715, 2.8944362845193154, 4.48297612089425, 9.66314768673601, 7.866728793170978, 7.885978584927898, 6.084125883777574, 7.365092016519043, 4.498506542579321, 1.391748373007431, 8.890673036230964, 7.5685468558690445, 3.720347193077373, 7.488650018923295, 5.704527125430104, 6.454242994643778, 7.808087043447699, 8.358766170357285, 4.28864612996108, 4.479586370006814, 6.033133057931309, 4.11270299892044, 4.377682309624788, 8.907410167366834, 8.813124663099188, 4.208261751965438, 3.8810567730121193, 9.77773617409332, 4.959827116296424], \"yaxis\": \"y\"}, {\"alignmentgroup\": \"True\", \"hoverlabel\": {\"namelength\": 0}, \"hovertemplate\": \"Actual=%{x}\", \"legendgroup\": \"\", \"marker\": {\"color\": \"#440154\", \"symbol\": \"circle\"}, \"name\": \"\", \"notched\": true, \"offsetgroup\": \"\", \"showlegend\": false, \"type\": \"box\", \"x\": [3.35, 4.75, 7.25, 2.85, 4.6, 9.25, 6.75, 6.5, 8.75, 7.45, 2.85, 6.85, 7.5, 6.1, 2.25, 7.75, 7.25, 7.75, 3.25, 2.65, 2.85, 4.9, 4.4, 2.5, 2.9, 3.0, 4.15, 6.0, 1.95, 7.45, 3.1, 2.35, 4.95, 6.0, 5.5, 2.95, 4.65, 0.35, 3.0, 2.25, 5.85, 2.55, 1.95, 5.5, 1.25, 7.5, 2.65, 1.05, 5.8, 7.75, 14.9, 23.0, 18.0, 16.0, 2.75, 3.6, 4.5, 4.75, 4.1, 19.99, 6.95, 4.5, 18.75, 23.5, 33.0, 4.75, 19.75, 9.25, 4.35, 14.25, 3.95, 4.5, 7.45, 2.65, 4.9, 3.95, 5.5, 1.5, 5.25, 14.5, 14.73, 4.75, 23.0, 12.5, 3.49, 2.5, 35.0, 5.9, 3.45, 4.75, 3.8, 11.25, 3.51, 23.0, 4.0, 5.85, 20.75, 17.0, 7.05, 9.65, 1.75, 1.7, 1.65, 1.45, 1.35, 1.35, 1.35, 1.25, 1.2, 1.2, 1.2, 1.15, 1.15, 1.15, 1.15, 1.11, 1.1, 1.1, 1.1, 1.05, 1.05, 1.05, 1.05, 1.0, 0.95, 0.9, 0.9, 0.75, 0.8, 0.78, 0.75, 0.75, 0.75, 0.72, 0.65, 0.65, 0.65, 0.65, 0.6, 0.6, 0.6, 0.6, 0.6, 0.6, 0.6, 0.6, 0.55, 0.55, 0.52, 0.51, 0.5, 0.5, 0.5, 0.5, 0.5, 0.48, 0.48, 0.48, 0.48, 0.45, 0.45, 0.45, 0.45, 0.45, 0.45, 0.45, 0.45, 0.42, 0.42, 0.4, 0.4, 0.4, 0.4, 0.4, 0.38, 0.38, 0.35, 0.35, 0.35, 0.31, 0.3, 0.3, 0.3, 0.27, 0.25, 0.25, 0.25, 0.25, 0.25, 0.2, 0.2, 0.2, 0.2, 0.2, 0.2, 0.18, 0.17, 0.16, 0.15, 0.12, 0.1, 3.25, 4.4, 2.95, 2.75, 5.25, 5.75, 5.15, 7.9, 4.85, 3.1, 11.75, 11.25, 2.9, 5.25, 4.5, 2.9, 3.15, 6.45, 4.5, 3.5, 4.5, 6.0, 8.25, 5.11, 2.7, 5.25, 2.55, 4.95, 3.1, 6.15, 9.25, 11.45, 3.9, 5.5, 9.1, 3.1, 11.25, 4.8, 2.0, 5.35, 4.75, 4.4, 6.25, 5.95, 5.2, 3.75, 5.95, 4.0, 5.25, 12.9, 5.0, 5.4, 7.2, 5.25, 3.0, 10.25, 8.5, 8.4, 3.9, 9.15, 5.5, 4.0, 6.6, 4.0, 6.5, 3.65, 8.35, 4.8, 6.7, 4.1, 3.0, 7.5, 2.25, 5.3, 10.9, 8.65, 9.7, 6.0, 6.25, 5.25, 2.1, 8.25, 8.99, 3.5, 7.4, 5.65, 5.75, 8.4, 10.11, 4.5, 5.4, 6.4, 3.25, 3.75, 8.55, 9.5, 4.0, 3.35, 11.5, 5.3], \"xaxis\": \"x3\", \"yaxis\": \"y3\"}, {\"alignmentgroup\": \"True\", \"hoverlabel\": {\"namelength\": 0}, \"hovertemplate\": \"Predicted=%{y}\", \"legendgroup\": \"\", \"marker\": {\"color\": \"#440154\", \"symbol\": \"circle\"}, \"name\": \"\", \"offsetgroup\": \"\", \"scalegroup\": \"y\", \"showlegend\": false, \"type\": \"violin\", \"xaxis\": \"x2\", \"y\": [3.8764039700809008, 6.625106558963353, 7.116269161548871, 2.1612965706193563, 5.841774744461986, 9.035064764101207, 5.460991068838666, 7.0792398881682175, 7.691921173808737, 7.160524071455029, 4.359224062565431, 7.7566372131886965, 7.727299858759466, 5.232217427986484, 2.257739381845454, 8.394431910749518, 7.998911204683736, 8.394431910749518, 6.989152995399536, 3.2344686178904567, 3.965628312905892, 5.298567141025728, 5.027662577503406, 2.8099334105629623, 2.7557404071856126, 2.4415887818017836, 3.4179784958355413, 4.454795354013299, 1.417381964348806, 7.794881832573424, 4.5796551088417345, 2.1789957680946372, 6.140277236535326, 7.199160224216143, 6.356245111470685, 6.462817269784637, 4.859644935339475, -3.784321634785215, 3.975998809105704, 0.2757989099139877, 7.147347427595378, 3.0327570920688913, 1.9508626048447013, 6.35127331095066, 1.628543241491684, 8.259924935717663, 2.9210330745878537, -0.23961115526594767, 5.233046061406412, 8.10507268786455, 16.655191713125646, 18.27948262249072, 14.412232483931007, 15.762369382994962, 0.7960903047018064, 7.227573401761674, 4.943342005488375, 7.889539989844934, 3.6559099167043314, 20.255190800674768, 9.196335537909931, 5.134772141734288, 20.019348981135636, 20.620893451826873, 21.810542670040718, 5.861199727794656, 14.452176865332262, 10.176995434313085, 5.910534543337462, 11.612428328008832, 5.610735545687589, 7.115665097921124, 9.094349886217287, 2.616094926634787, 6.502037732662984, 4.762628378430691, 7.239642358315791, 3.5928341487207263, 11.042017062365062, 16.755309752571634, 10.350459987141221, 6.698405663411904, 16.91867848056063, 9.213139998181646, 4.159063036949419, 6.287070513047524, 42.2338374118649, 6.518453117259469, 3.5501285777130533, 4.3153452216851065, 7.440322558788466, 9.853113498576818, 3.5518747888310145, 18.27948262249072, 10.154456250607268, 8.588423338091161, 16.425493764792805, 11.025020030248356, 9.16447139585921, 10.234209384912674, 2.0879066865979894, 2.4663735757328595, 2.431961434047139, 2.3695312933082278, 2.2930681057605398, 1.7743774967515265, 1.2046839002963452, 0.6211809033618465, 1.8139004052800374, 2.249086793468109, 2.0152659570487685, 1.8731795653263816, 1.4775091486715155, 1.6609419671425485, 1.4029476330097168, 1.3997605813942755, 0.4930674402434079, 1.613844280522585, 1.3455807039326828, 0.8607670272336918, 1.785265035304974, -0.1350834015423743, 1.7432139894431202, 0.40701704662785687, 0.35103970216800917, -1.042464051520028, 2.0790024420937243, 1.5718247583203038, 2.032487520030145, 2.00635970860435, 1.9814946941838798, 1.1066820888876236, 2.0649794149860554, 1.6801544541415296, 1.949636201670728, 1.1538664843166089, 0.837152246794858, 0.296818188814882, 1.5520510107238579, 1.1735841215891014, 0.37902509879631907, 1.4889614163200804, 1.045486689991776, 1.474930373451798, 0.7339338571991902, -0.1159936942750619, 0.7071395625824834, 0.8606376962989088, -1.0316366311709544, 1.525903159896643, -0.42994183349742343, 1.307349572746375, 0.0025285548949796066, 0.20250452204652447, 0.7932350605872216, 3.294062585820484, 1.7999028900114808, 1.0837313093765033, 1.8496168873314218, 3.2959748167896805, -0.4893733244661007, 0.6735402231896614, -0.0070325999512306225, -0.9124429046953537, 1.4112494593483689, 2.927716512524853, 1.4985726696700112, 0.5452964724904632, 0.29689335230602865, 1.0073021888115363, -0.02102356401655925, 1.058293010717648, 0.6498658324578628, 3.3131848955127907, 0.9307768791193212, -0.8871484428752865, -0.4830192606368655, 2.7913046915655286, 1.9929813250388406, -2.053427422408049, -0.5111279763794983, 1.155022533111378, 0.11526146933078962, 0.12356984687244221, -2.4837181503964985, -0.2949459230072762, 0.35806993319909, 0.07129418461931891, 0.1872908397788251, -3.2801291440549676, -2.019880218813114, -0.9418325948037136, -3.034269795241471, -0.495832274464874, -1.9396376737161063, 0.775328917893944, -3.496645952191443, -1.1469217302219477, -1.4095208976484628, -2.4550265281983457, -3.0332312293247696, 3.410631969074416, 4.321760868276328, 2.05437642316474, 3.754834914993012, 4.202635665906087, 5.867623856202044, 5.71012756882385, 6.3578784729976405, 5.859845172790983, 2.5710497093381264, 9.77102182354622, 8.284246529486154, 3.1703999857645613, 5.181196408074129, 4.709714920062424, 4.259378282718103, 4.243443024641124, 5.460382762330028, 4.71035233038549, 4.497675358493211, 5.406187041519843, 5.943091432058964, 7.253400552052199, 6.543454188043597, 2.251610299435015, 4.344210459855162, 1.9559943362638705, 6.050361377003469, 4.936487189336617, 6.549920196002063, 6.863938476812905, 9.903721611425567, 4.8487760912360045, 4.472878107671818, 6.863046102360613, 4.263527823921436, 9.084355057757648, 4.959784964504706, 2.572141877456943, 6.226783806225171, 4.230100721439726, 4.5186049689617676, 5.708214108372886, 6.524423783078987, 5.9802462414647835, 3.5527008017296566, 5.922194141995988, 3.0118074260327603, 5.644473076064969, 9.692694322493026, 5.205342706012061, 6.231113548709004, 7.1577385729168554, 5.221016625856578, 2.791443385612297, 8.112840519507017, 7.767777214616217, 7.865453972524847, 4.447534272747475, 8.242483405118037, 4.990179316506897, 4.290998528992759, 5.695433114303228, 4.826163605251622, 6.512234628386977, 4.454252577552779, 7.924722330810937, 5.232895842287348, 6.299242341959371, 4.361478183315285, 3.552174965427639, 6.2433287084189715, 2.8944362845193154, 4.48297612089425, 9.66314768673601, 7.866728793170978, 7.885978584927898, 6.084125883777574, 7.365092016519043, 4.498506542579321, 1.391748373007431, 8.890673036230964, 7.5685468558690445, 3.720347193077373, 7.488650018923295, 5.704527125430104, 6.454242994643778, 7.808087043447699, 8.358766170357285, 4.28864612996108, 4.479586370006814, 6.033133057931309, 4.11270299892044, 4.377682309624788, 8.907410167366834, 8.813124663099188, 4.208261751965438, 3.8810567730121193, 9.77773617409332, 4.959827116296424], \"yaxis\": \"y2\"}, {\"hoverlabel\": {\"namelength\": 0}, \"hovertemplate\": \"<b>OLS trendline</b><br>Predicted = 0.878521 * Actual + 0.566251<br>R<sup>2</sup>=0.878521<br><br>Actual=%{x}<br>Predicted=%{y} <b>(trend)</b>\", \"legendgroup\": \"\", \"marker\": {\"symbol\": \"circle\"}, \"mode\": \"lines\", \"name\": \"\", \"showlegend\": false, \"type\": \"scatter\", \"x\": [0.1, 0.12, 0.15, 0.16, 0.17, 0.18, 0.2, 0.2, 0.2, 0.2, 0.2, 0.2, 0.25, 0.25, 0.25, 0.25, 0.25, 0.27, 0.3, 0.3, 0.3, 0.31, 0.35, 0.35, 0.35, 0.35, 0.38, 0.38, 0.4, 0.4, 0.4, 0.4, 0.4, 0.42, 0.42, 0.45, 0.45, 0.45, 0.45, 0.45, 0.45, 0.45, 0.45, 0.48, 0.48, 0.48, 0.48, 0.5, 0.5, 0.5, 0.5, 0.5, 0.51, 0.52, 0.55, 0.55, 0.6, 0.6, 0.6, 0.6, 0.6, 0.6, 0.6, 0.6, 0.65, 0.65, 0.65, 0.65, 0.72, 0.75, 0.75, 0.75, 0.75, 0.78, 0.8, 0.9, 0.9, 0.95, 1.0, 1.05, 1.05, 1.05, 1.05, 1.05, 1.1, 1.1, 1.1, 1.11, 1.15, 1.15, 1.15, 1.15, 1.2, 1.2, 1.2, 1.25, 1.25, 1.35, 1.35, 1.35, 1.45, 1.5, 1.65, 1.7, 1.75, 1.95, 1.95, 2.0, 2.1, 2.25, 2.25, 2.25, 2.35, 2.5, 2.5, 2.55, 2.55, 2.65, 2.65, 2.65, 2.7, 2.75, 2.75, 2.85, 2.85, 2.85, 2.9, 2.9, 2.9, 2.95, 2.95, 3.0, 3.0, 3.0, 3.0, 3.1, 3.1, 3.1, 3.1, 3.15, 3.25, 3.25, 3.25, 3.35, 3.35, 3.45, 3.49, 3.5, 3.5, 3.51, 3.6, 3.65, 3.75, 3.75, 3.8, 3.9, 3.9, 3.95, 3.95, 4.0, 4.0, 4.0, 4.0, 4.0, 4.1, 4.1, 4.15, 4.35, 4.4, 4.4, 4.4, 4.5, 4.5, 4.5, 4.5, 4.5, 4.5, 4.5, 4.6, 4.65, 4.75, 4.75, 4.75, 4.75, 4.75, 4.75, 4.8, 4.8, 4.85, 4.9, 4.9, 4.95, 4.95, 5.0, 5.11, 5.15, 5.2, 5.25, 5.25, 5.25, 5.25, 5.25, 5.25, 5.25, 5.3, 5.3, 5.35, 5.4, 5.4, 5.5, 5.5, 5.5, 5.5, 5.5, 5.65, 5.75, 5.75, 5.8, 5.85, 5.85, 5.9, 5.95, 5.95, 6.0, 6.0, 6.0, 6.0, 6.1, 6.15, 6.25, 6.25, 6.4, 6.45, 6.5, 6.5, 6.6, 6.7, 6.75, 6.85, 6.95, 7.05, 7.2, 7.25, 7.25, 7.4, 7.45, 7.45, 7.45, 7.5, 7.5, 7.5, 7.75, 7.75, 7.75, 7.9, 8.25, 8.25, 8.35, 8.4, 8.4, 8.5, 8.55, 8.65, 8.75, 8.99, 9.1, 9.15, 9.25, 9.25, 9.25, 9.5, 9.65, 9.7, 10.11, 10.25, 10.9, 11.25, 11.25, 11.25, 11.45, 11.5, 11.75, 12.5, 12.9, 14.25, 14.5, 14.73, 14.9, 16.0, 17.0, 18.0, 18.75, 19.75, 19.99, 20.75, 23.0, 23.0, 23.0, 23.5, 33.0, 35.0], \"xaxis\": \"x\", \"y\": [0.6541034703528618, 0.6716738823186839, 0.6980295002674168, 0.7068147062503278, 0.7155999122332388, 0.7243851182161498, 0.7419555301819719, 0.7419555301819719, 0.7419555301819719, 0.7419555301819719, 0.7419555301819719, 0.7419555301819719, 0.7858815600965269, 0.7858815600965269, 0.7858815600965269, 0.7858815600965269, 0.7858815600965269, 0.803451972062349, 0.829807590011082, 0.829807590011082, 0.829807590011082, 0.838592795993993, 0.8737336199256369, 0.8737336199256369, 0.8737336199256369, 0.8737336199256369, 0.90008923787437, 0.90008923787437, 0.9176596498401921, 0.9176596498401921, 0.9176596498401921, 0.9176596498401921, 0.9176596498401921, 0.9352300618060141, 0.9352300618060141, 0.9615856797547471, 0.9615856797547471, 0.9615856797547471, 0.9615856797547471, 0.9615856797547471, 0.9615856797547471, 0.9615856797547471, 0.9615856797547471, 0.98794129770348, 0.98794129770348, 0.98794129770348, 0.98794129770348, 1.005511709669302, 1.005511709669302, 1.005511709669302, 1.005511709669302, 1.005511709669302, 1.014296915652213, 1.0230821216351242, 1.0494377395838572, 1.0494377395838572, 1.0933637694984122, 1.0933637694984122, 1.0933637694984122, 1.0933637694984122, 1.0933637694984122, 1.0933637694984122, 1.0933637694984122, 1.0933637694984122, 1.1372897994129674, 1.1372897994129674, 1.1372897994129674, 1.1372897994129674, 1.198786241293344, 1.2251418592420773, 1.2251418592420773, 1.2251418592420773, 1.2251418592420773, 1.2514974771908103, 1.2690678891566325, 1.3569199489857424, 1.3569199489857424, 1.4008459789002974, 1.4447720088148523, 1.4886980387294075, 1.4886980387294075, 1.4886980387294075, 1.4886980387294075, 1.4886980387294075, 1.5326240686439627, 1.5326240686439627, 1.5326240686439627, 1.5414092746268735, 1.5765500985585175, 1.5765500985585175, 1.5765500985585175, 1.5765500985585175, 1.6204761284730727, 1.6204761284730727, 1.6204761284730727, 1.6644021583876276, 1.6644021583876276, 1.7522542182167378, 1.7522542182167378, 1.7522542182167378, 1.8401062780458477, 1.8840323079604029, 2.015810397704068, 2.059736427618623, 2.103662457533178, 2.2793665771913982, 2.2793665771913982, 2.3232926071059534, 2.4111446669350634, 2.5429227566787285, 2.5429227566787285, 2.5429227566787285, 2.6307748165078384, 2.7625529062515035, 2.7625529062515035, 2.8064789361660583, 2.8064789361660583, 2.8943309959951686, 2.8943309959951686, 2.8943309959951686, 2.938257025909724, 2.9821830558242786, 2.9821830558242786, 3.070035115653389, 3.070035115653389, 3.070035115653389, 3.1139611455679437, 3.1139611455679437, 3.1139611455679437, 3.157887175482499, 3.157887175482499, 3.201813205397054, 3.201813205397054, 3.201813205397054, 3.201813205397054, 3.289665265226164, 3.289665265226164, 3.289665265226164, 3.289665265226164, 3.333591295140719, 3.421443354969829, 3.421443354969829, 3.421443354969829, 3.5092954147989395, 3.5092954147989395, 3.5971474746280494, 3.6322882985596934, 3.641073504542604, 3.641073504542604, 3.649858710525515, 3.7289255643717145, 3.7728515942862693, 3.8607036541153796, 3.8607036541153796, 3.9046296840299344, 3.9924817438590443, 3.9924817438590443, 4.0364077737736, 4.0364077737736, 4.080333803688155, 4.080333803688155, 4.080333803688155, 4.080333803688155, 4.080333803688155, 4.168185863517264, 4.168185863517264, 4.21211189343182, 4.38781601309004, 4.431742043004595, 4.431742043004595, 4.431742043004595, 4.519594102833706, 4.519594102833706, 4.519594102833706, 4.519594102833706, 4.519594102833706, 4.519594102833706, 4.519594102833706, 4.607446162662814, 4.651372192577371, 4.73922425240648, 4.73922425240648, 4.73922425240648, 4.73922425240648, 4.73922425240648, 4.73922425240648, 4.783150282321035, 4.783150282321035, 4.82707631223559, 4.871002342150145, 4.871002342150145, 4.914928372064701, 4.914928372064701, 4.958854401979256, 5.0554916677912765, 5.090632491722921, 5.1345585216374765, 5.17848455155203, 5.17848455155203, 5.17848455155203, 5.17848455155203, 5.17848455155203, 5.17848455155203, 5.17848455155203, 5.222410581466585, 5.222410581466585, 5.26633661138114, 5.3102626412956955, 5.3102626412956955, 5.398114701124806, 5.398114701124806, 5.398114701124806, 5.398114701124806, 5.398114701124806, 5.529892790868471, 5.617744850697582, 5.617744850697582, 5.661670880612135, 5.70559691052669, 5.70559691052669, 5.749522940441246, 5.793448970355801, 5.793448970355801, 5.837375000270356, 5.837375000270356, 5.837375000270356, 5.837375000270356, 5.925227060099466, 5.9691530900140215, 6.057005149843132, 6.057005149843132, 6.188783239586797, 6.232709269501351, 6.276635299415906, 6.276635299415906, 6.364487359245016, 6.452339419074127, 6.496265448988682, 6.584117508817792, 6.671969568646903, 6.759821628476011, 6.891599718219677, 6.935525748134232, 6.935525748134232, 7.067303837877898, 7.111229867792453, 7.111229867792453, 7.111229867792453, 7.155155897707008, 7.155155897707008, 7.155155897707008, 7.374786047279782, 7.374786047279782, 7.374786047279782, 7.506564137023448, 7.814046346425332, 7.814046346425332, 7.901898406254443, 7.945824436168998, 7.945824436168998, 8.033676495998108, 8.077602525912663, 8.165454585741774, 8.253306645570882, 8.464151589160748, 8.560788854972769, 8.604714884887324, 8.692566944716432, 8.692566944716432, 8.692566944716432, 8.912197094289208, 9.043975184032874, 9.087901213947427, 9.44809465924678, 9.571087543007534, 10.14212593189675, 10.449608141298635, 10.449608141298635, 10.449608141298635, 10.625312260956854, 10.66923829087141, 10.888868440444185, 11.54775888916251, 11.89916712847895, 13.085169936171937, 13.304800085744713, 13.506859823351666, 13.656208325061153, 14.622580983181363, 15.501101581472463, 16.379622179763565, 17.03851262848189, 17.91703322677299, 18.127878170362855, 18.79555382506409, 20.77222517121907, 20.77222517121907, 20.77222517121907, 21.211485470364618, 29.557431154130075, 31.314472350712276], \"yaxis\": \"y\"}],\n",
              "                        {\"coloraxis\": {\"colorbar\": {\"title\": {\"text\": \"Predicted\"}}, \"colorscale\": [[0.0, \"#440154\"], [0.1111111111111111, \"#482878\"], [0.2222222222222222, \"#3e4989\"], [0.3333333333333333, \"#31688e\"], [0.4444444444444444, \"#26828e\"], [0.5555555555555556, \"#1f9e89\"], [0.6666666666666666, \"#35b779\"], [0.7777777777777778, \"#6ece58\"], [0.8888888888888888, \"#b5de2b\"], [1.0, \"#fde725\"]]}, \"legend\": {\"tracegroupgap\": 0}, \"margin\": {\"t\": 60}, \"template\": {\"data\": {\"bar\": [{\"error_x\": {\"color\": \"rgb(36,36,36)\"}, \"error_y\": {\"color\": \"rgb(36,36,36)\"}, \"marker\": {\"line\": {\"color\": \"white\", \"width\": 0.5}}, \"type\": \"bar\"}], \"barpolar\": [{\"marker\": {\"line\": {\"color\": \"white\", \"width\": 0.5}}, \"type\": \"barpolar\"}], \"carpet\": [{\"aaxis\": {\"endlinecolor\": \"rgb(36,36,36)\", \"gridcolor\": \"white\", \"linecolor\": \"white\", \"minorgridcolor\": \"white\", \"startlinecolor\": \"rgb(36,36,36)\"}, \"baxis\": {\"endlinecolor\": \"rgb(36,36,36)\", \"gridcolor\": \"white\", \"linecolor\": \"white\", \"minorgridcolor\": \"white\", \"startlinecolor\": \"rgb(36,36,36)\"}, \"type\": \"carpet\"}], \"choropleth\": [{\"colorbar\": {\"outlinewidth\": 10, \"tickcolor\": \"rgb(36,36,36)\", \"ticklen\": 8, \"ticks\": \"outside\", \"tickwidth\": 2}, \"type\": \"choropleth\"}], \"contour\": [{\"colorbar\": {\"outlinewidth\": 10, \"tickcolor\": \"rgb(36,36,36)\", \"ticklen\": 8, \"ticks\": \"outside\", \"tickwidth\": 2}, \"colorscale\": [[0.0, \"#440154\"], [0.1111111111111111, \"#482878\"], [0.2222222222222222, \"#3e4989\"], [0.3333333333333333, \"#31688e\"], [0.4444444444444444, \"#26828e\"], [0.5555555555555556, \"#1f9e89\"], [0.6666666666666666, \"#35b779\"], [0.7777777777777778, \"#6ece58\"], [0.8888888888888888, \"#b5de2b\"], [1.0, \"#fde725\"]], \"type\": \"contour\"}], \"contourcarpet\": [{\"colorbar\": {\"outlinewidth\": 10, \"tickcolor\": \"rgb(36,36,36)\", \"ticklen\": 8, \"ticks\": \"outside\", \"tickwidth\": 2}, \"type\": \"contourcarpet\"}], \"heatmap\": [{\"colorbar\": {\"outlinewidth\": 10, \"tickcolor\": \"rgb(36,36,36)\", \"ticklen\": 8, \"ticks\": \"outside\", \"tickwidth\": 2}, \"colorscale\": [[0.0, \"#440154\"], [0.1111111111111111, \"#482878\"], [0.2222222222222222, \"#3e4989\"], [0.3333333333333333, \"#31688e\"], [0.4444444444444444, \"#26828e\"], [0.5555555555555556, \"#1f9e89\"], [0.6666666666666666, \"#35b779\"], [0.7777777777777778, \"#6ece58\"], [0.8888888888888888, \"#b5de2b\"], [1.0, \"#fde725\"]], \"type\": \"heatmap\"}], \"heatmapgl\": [{\"colorbar\": {\"outlinewidth\": 10, \"tickcolor\": \"rgb(36,36,36)\", \"ticklen\": 8, \"ticks\": \"outside\", \"tickwidth\": 2}, \"colorscale\": [[0.0, \"#440154\"], [0.1111111111111111, \"#482878\"], [0.2222222222222222, \"#3e4989\"], [0.3333333333333333, \"#31688e\"], [0.4444444444444444, \"#26828e\"], [0.5555555555555556, \"#1f9e89\"], [0.6666666666666666, \"#35b779\"], [0.7777777777777778, \"#6ece58\"], [0.8888888888888888, \"#b5de2b\"], [1.0, \"#fde725\"]], \"type\": \"heatmapgl\"}], \"histogram\": [{\"marker\": {\"line\": {\"color\": \"white\", \"width\": 0.6}}, \"type\": \"histogram\"}], \"histogram2d\": [{\"colorbar\": {\"outlinewidth\": 10, \"tickcolor\": \"rgb(36,36,36)\", \"ticklen\": 8, \"ticks\": \"outside\", \"tickwidth\": 2}, \"colorscale\": [[0.0, \"#440154\"], [0.1111111111111111, \"#482878\"], [0.2222222222222222, \"#3e4989\"], [0.3333333333333333, \"#31688e\"], [0.4444444444444444, \"#26828e\"], [0.5555555555555556, \"#1f9e89\"], [0.6666666666666666, \"#35b779\"], [0.7777777777777778, \"#6ece58\"], [0.8888888888888888, \"#b5de2b\"], [1.0, \"#fde725\"]], \"type\": \"histogram2d\"}], \"histogram2dcontour\": [{\"colorbar\": {\"outlinewidth\": 10, \"tickcolor\": \"rgb(36,36,36)\", \"ticklen\": 8, \"ticks\": \"outside\", \"tickwidth\": 2}, \"colorscale\": [[0.0, \"#440154\"], [0.1111111111111111, \"#482878\"], [0.2222222222222222, \"#3e4989\"], [0.3333333333333333, \"#31688e\"], [0.4444444444444444, \"#26828e\"], [0.5555555555555556, \"#1f9e89\"], [0.6666666666666666, \"#35b779\"], [0.7777777777777778, \"#6ece58\"], [0.8888888888888888, \"#b5de2b\"], [1.0, \"#fde725\"]], \"type\": \"histogram2dcontour\"}], \"mesh3d\": [{\"colorbar\": {\"outlinewidth\": 10, \"tickcolor\": \"rgb(36,36,36)\", \"ticklen\": 8, \"ticks\": \"outside\", \"tickwidth\": 2}, \"type\": \"mesh3d\"}], \"parcoords\": [{\"line\": {\"colorbar\": {\"outlinewidth\": 10, \"tickcolor\": \"rgb(36,36,36)\", \"ticklen\": 8, \"ticks\": \"outside\", \"tickwidth\": 2}}, \"type\": \"parcoords\"}], \"pie\": [{\"automargin\": true, \"type\": \"pie\"}], \"scatter\": [{\"marker\": {\"colorbar\": {\"outlinewidth\": 10, \"tickcolor\": \"rgb(36,36,36)\", \"ticklen\": 8, \"ticks\": \"outside\", \"tickwidth\": 2}}, \"type\": \"scatter\"}], \"scatter3d\": [{\"line\": {\"colorbar\": {\"outlinewidth\": 10, \"tickcolor\": \"rgb(36,36,36)\", \"ticklen\": 8, \"ticks\": \"outside\", \"tickwidth\": 2}}, \"marker\": {\"colorbar\": {\"outlinewidth\": 10, \"tickcolor\": \"rgb(36,36,36)\", \"ticklen\": 8, \"ticks\": \"outside\", \"tickwidth\": 2}}, \"type\": \"scatter3d\"}], \"scattercarpet\": [{\"marker\": {\"colorbar\": {\"outlinewidth\": 10, \"tickcolor\": \"rgb(36,36,36)\", \"ticklen\": 8, \"ticks\": \"outside\", \"tickwidth\": 2}}, \"type\": \"scattercarpet\"}], \"scattergeo\": [{\"marker\": {\"colorbar\": {\"outlinewidth\": 10, \"tickcolor\": \"rgb(36,36,36)\", \"ticklen\": 8, \"ticks\": \"outside\", \"tickwidth\": 2}}, \"type\": \"scattergeo\"}], \"scattergl\": [{\"marker\": {\"colorbar\": {\"outlinewidth\": 10, \"tickcolor\": \"rgb(36,36,36)\", \"ticklen\": 8, \"ticks\": \"outside\", \"tickwidth\": 2}}, \"type\": \"scattergl\"}], \"scattermapbox\": [{\"marker\": {\"colorbar\": {\"outlinewidth\": 10, \"tickcolor\": \"rgb(36,36,36)\", \"ticklen\": 8, \"ticks\": \"outside\", \"tickwidth\": 2}}, \"type\": \"scattermapbox\"}], \"scatterpolar\": [{\"marker\": {\"colorbar\": {\"outlinewidth\": 10, \"tickcolor\": \"rgb(36,36,36)\", \"ticklen\": 8, \"ticks\": \"outside\", \"tickwidth\": 2}}, \"type\": \"scatterpolar\"}], \"scatterpolargl\": [{\"marker\": {\"colorbar\": {\"outlinewidth\": 10, \"tickcolor\": \"rgb(36,36,36)\", \"ticklen\": 8, \"ticks\": \"outside\", \"tickwidth\": 2}}, \"type\": \"scatterpolargl\"}], \"scatterternary\": [{\"marker\": {\"colorbar\": {\"outlinewidth\": 10, \"tickcolor\": \"rgb(36,36,36)\", \"ticklen\": 8, \"ticks\": \"outside\", \"tickwidth\": 2}}, \"type\": \"scatterternary\"}], \"surface\": [{\"colorbar\": {\"outlinewidth\": 10, \"tickcolor\": \"rgb(36,36,36)\", \"ticklen\": 8, \"ticks\": \"outside\", \"tickwidth\": 2}, \"colorscale\": [[0.0, \"#440154\"], [0.1111111111111111, \"#482878\"], [0.2222222222222222, \"#3e4989\"], [0.3333333333333333, \"#31688e\"], [0.4444444444444444, \"#26828e\"], [0.5555555555555556, \"#1f9e89\"], [0.6666666666666666, \"#35b779\"], [0.7777777777777778, \"#6ece58\"], [0.8888888888888888, \"#b5de2b\"], [1.0, \"#fde725\"]], \"type\": \"surface\"}], \"table\": [{\"cells\": {\"fill\": {\"color\": \"rgb(237,237,237)\"}, \"line\": {\"color\": \"white\"}}, \"header\": {\"fill\": {\"color\": \"rgb(217,217,217)\"}, \"line\": {\"color\": \"white\"}}, \"type\": \"table\"}]}, \"layout\": {\"annotationdefaults\": {\"arrowhead\": 0, \"arrowwidth\": 1}, \"coloraxis\": {\"colorbar\": {\"outlinewidth\": 10, \"tickcolor\": \"rgb(36,36,36)\", \"ticklen\": 8, \"ticks\": \"outside\", \"tickwidth\": 2}}, \"colorscale\": {\"diverging\": [[0.0, \"rgb(103,0,31)\"], [0.1, \"rgb(178,24,43)\"], [0.2, \"rgb(214,96,77)\"], [0.3, \"rgb(244,165,130)\"], [0.4, \"rgb(253,219,199)\"], [0.5, \"rgb(247,247,247)\"], [0.6, \"rgb(209,229,240)\"], [0.7, \"rgb(146,197,222)\"], [0.8, \"rgb(67,147,195)\"], [0.9, \"rgb(33,102,172)\"], [1.0, \"rgb(5,48,97)\"]], \"sequential\": [[0.0, \"#440154\"], [0.1111111111111111, \"#482878\"], [0.2222222222222222, \"#3e4989\"], [0.3333333333333333, \"#31688e\"], [0.4444444444444444, \"#26828e\"], [0.5555555555555556, \"#1f9e89\"], [0.6666666666666666, \"#35b779\"], [0.7777777777777778, \"#6ece58\"], [0.8888888888888888, \"#b5de2b\"], [1.0, \"#fde725\"]], \"sequentialminus\": [[0.0, \"#440154\"], [0.1111111111111111, \"#482878\"], [0.2222222222222222, \"#3e4989\"], [0.3333333333333333, \"#31688e\"], [0.4444444444444444, \"#26828e\"], [0.5555555555555556, \"#1f9e89\"], [0.6666666666666666, \"#35b779\"], [0.7777777777777778, \"#6ece58\"], [0.8888888888888888, \"#b5de2b\"], [1.0, \"#fde725\"]]}, \"colorway\": [\"#1F77B4\", \"#FF7F0E\", \"#2CA02C\", \"#D62728\", \"#9467BD\", \"#8C564B\", \"#E377C2\", \"#7F7F7F\", \"#BCBD22\", \"#17BECF\"], \"font\": {\"color\": \"rgb(36,36,36)\"}, \"geo\": {\"bgcolor\": \"white\", \"lakecolor\": \"white\", \"landcolor\": \"white\", \"showlakes\": true, \"showland\": true, \"subunitcolor\": \"white\"}, \"hoverlabel\": {\"align\": \"left\"}, \"hovermode\": \"closest\", \"mapbox\": {\"style\": \"light\"}, \"paper_bgcolor\": \"white\", \"plot_bgcolor\": \"white\", \"polar\": {\"angularaxis\": {\"gridcolor\": \"rgb(232,232,232)\", \"linecolor\": \"rgb(36,36,36)\", \"showgrid\": false, \"showline\": true, \"ticks\": \"outside\"}, \"bgcolor\": \"white\", \"radialaxis\": {\"gridcolor\": \"rgb(232,232,232)\", \"linecolor\": \"rgb(36,36,36)\", \"showgrid\": false, \"showline\": true, \"ticks\": \"outside\"}}, \"scene\": {\"xaxis\": {\"backgroundcolor\": \"white\", \"gridcolor\": \"rgb(232,232,232)\", \"gridwidth\": 2, \"linecolor\": \"rgb(36,36,36)\", \"showbackground\": true, \"showgrid\": false, \"showline\": true, \"ticks\": \"outside\", \"zeroline\": false, \"zerolinecolor\": \"rgb(36,36,36)\"}, \"yaxis\": {\"backgroundcolor\": \"white\", \"gridcolor\": \"rgb(232,232,232)\", \"gridwidth\": 2, \"linecolor\": \"rgb(36,36,36)\", \"showbackground\": true, \"showgrid\": false, \"showline\": true, \"ticks\": \"outside\", \"zeroline\": false, \"zerolinecolor\": \"rgb(36,36,36)\"}, \"zaxis\": {\"backgroundcolor\": \"white\", \"gridcolor\": \"rgb(232,232,232)\", \"gridwidth\": 2, \"linecolor\": \"rgb(36,36,36)\", \"showbackground\": true, \"showgrid\": false, \"showline\": true, \"ticks\": \"outside\", \"zeroline\": false, \"zerolinecolor\": \"rgb(36,36,36)\"}}, \"shapedefaults\": {\"fillcolor\": \"black\", \"line\": {\"width\": 0}, \"opacity\": 0.3}, \"ternary\": {\"aaxis\": {\"gridcolor\": \"rgb(232,232,232)\", \"linecolor\": \"rgb(36,36,36)\", \"showgrid\": false, \"showline\": true, \"ticks\": \"outside\"}, \"baxis\": {\"gridcolor\": \"rgb(232,232,232)\", \"linecolor\": \"rgb(36,36,36)\", \"showgrid\": false, \"showline\": true, \"ticks\": \"outside\"}, \"bgcolor\": \"white\", \"caxis\": {\"gridcolor\": \"rgb(232,232,232)\", \"linecolor\": \"rgb(36,36,36)\", \"showgrid\": false, \"showline\": true, \"ticks\": \"outside\"}}, \"title\": {\"x\": 0.05}, \"xaxis\": {\"automargin\": true, \"gridcolor\": \"rgb(232,232,232)\", \"linecolor\": \"rgb(36,36,36)\", \"showgrid\": false, \"showline\": true, \"ticks\": \"outside\", \"title\": {\"standoff\": 15}, \"zeroline\": false, \"zerolinecolor\": \"rgb(36,36,36)\"}, \"yaxis\": {\"automargin\": true, \"gridcolor\": \"rgb(232,232,232)\", \"linecolor\": \"rgb(36,36,36)\", \"showgrid\": false, \"showline\": true, \"ticks\": \"outside\", \"title\": {\"standoff\": 15}, \"zeroline\": false, \"zerolinecolor\": \"rgb(36,36,36)\"}}}, \"xaxis\": {\"anchor\": \"y\", \"domain\": [0.0, 0.7363], \"title\": {\"text\": \"Actual\"}}, \"xaxis2\": {\"anchor\": \"y2\", \"domain\": [0.7413, 1.0], \"matches\": \"x2\", \"showline\": false, \"showticklabels\": false, \"ticks\": \"\"}, \"xaxis3\": {\"anchor\": \"y3\", \"domain\": [0.0, 0.7363], \"matches\": \"x\", \"showticklabels\": false}, \"xaxis4\": {\"anchor\": \"y4\", \"domain\": [0.7413, 1.0], \"matches\": \"x2\", \"showline\": false, \"showticklabels\": false, \"ticks\": \"\"}, \"yaxis\": {\"anchor\": \"x\", \"domain\": [0.0, 0.7326], \"title\": {\"text\": \"Predicted\"}}, \"yaxis2\": {\"anchor\": \"x2\", \"domain\": [0.0, 0.7326], \"matches\": \"y\", \"showticklabels\": false}, \"yaxis3\": {\"anchor\": \"x3\", \"domain\": [0.7426, 1.0], \"matches\": \"y3\", \"showline\": false, \"showticklabels\": false, \"ticks\": \"\"}, \"yaxis4\": {\"anchor\": \"x4\", \"domain\": [0.7426, 1.0], \"matches\": \"y3\", \"showline\": false, \"showticklabels\": false, \"ticks\": \"\"}},\n",
              "                        {\"responsive\": true}\n",
              "                    ).then(function(){\n",
              "                            \n",
              "var gd = document.getElementById('0edb05bc-afd8-42bb-b537-d3907db04df8');\n",
              "var x = new MutationObserver(function (mutations, observer) {{\n",
              "        var display = window.getComputedStyle(gd).display;\n",
              "        if (!display || display === 'none') {{\n",
              "            console.log([gd, 'removed!']);\n",
              "            Plotly.purge(gd);\n",
              "            observer.disconnect();\n",
              "        }}\n",
              "}});\n",
              "\n",
              "// Listen for the removal of the full notebook cells\n",
              "var notebookContainer = gd.closest('#notebook-container');\n",
              "if (notebookContainer) {{\n",
              "    x.observe(notebookContainer, {childList: true});\n",
              "}}\n",
              "\n",
              "// Listen for the clearing of the current output cell\n",
              "var outputEl = gd.closest('.output');\n",
              "if (outputEl) {{\n",
              "    x.observe(outputEl, {childList: true});\n",
              "}}\n",
              "\n",
              "                        })\n",
              "                };\n",
              "                \n",
              "            </script>\n",
              "        </div>\n",
              "</body>\n",
              "</html>"
            ]
          },
          "metadata": {
            "tags": []
          }
        }
      ]
    },
    {
      "cell_type": "code",
      "metadata": {
        "id": "gEj7lecnN1g3",
        "outputId": "b52b195e-d540-4e9b-b5a6-cd935fdd4de2",
        "colab": {
          "base_uri": "https://localhost:8080/",
          "height": 35
        }
      },
      "source": [
        "print('MSE:', metrics.mean_squared_error(y, y_pred))"
      ],
      "execution_count": 97,
      "outputs": [
        {
          "output_type": "stream",
          "text": [
            "MSE: 3.1279904666578924\n"
          ],
          "name": "stdout"
        }
      ]
    },
    {
      "cell_type": "code",
      "metadata": {
        "id": "twxaZSsFN7Gq",
        "outputId": "7e32dc31-3fd5-40c9-c0bd-bb32e3c5dac3",
        "colab": {
          "base_uri": "https://localhost:8080/",
          "height": 52
        }
      },
      "source": [
        "from sklearn.metrics import r2_score\n",
        "print(\"R**2 Value:\\ncoefficient of determination:\", r2_score(y, y_pred))"
      ],
      "execution_count": 98,
      "outputs": [
        {
          "output_type": "stream",
          "text": [
            "R**2 Value:\n",
            "coefficient of determination: 0.878520598291081\n"
          ],
          "name": "stdout"
        }
      ]
    },
    {
      "cell_type": "code",
      "metadata": {
        "id": "XqQ7B83DN_Tz"
      },
      "source": [
        ""
      ],
      "execution_count": null,
      "outputs": []
    }
  ]
}